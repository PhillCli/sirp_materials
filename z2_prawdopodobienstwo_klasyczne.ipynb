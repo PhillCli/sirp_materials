{
 "cells": [
  {
   "cell_type": "markdown",
   "metadata": {},
   "source": [
    "## Prawdopodobieństwo klasyczne"
   ]
  },
  {
   "cell_type": "markdown",
   "metadata": {},
   "source": [
    "### Kombinatoryka\n",
    "\n",
    "Kombinatoryka jest działem matematyki zajmującym się sposobem liczenia struktur przeliczalnych (takich, których elementy można ustawić w ciąg, tzn. \"wypisać po kolei\"). Kombinatoryka zawdzięcza swój rozwój teorii prawdopodobieństwa, z którą jest silnie związana. Z naszego puntku widzenia kombinatoryka pozwoli nam określać **na ile sposobów da się utworzyć dany wzorzec wybierając elementy ze skończonego zbioru**. Dla przykładu wybierzmy zbiór 20 osób. Z tych 20 osób możemy tworzyć różne \"wzorce\". Możemy na przykład zapytać ile różnych grup trzyosobowych możemy wybrać albo na ile sposobów da się ustawić wszystkie osoby w kolejkę, tak aby za każdym razem ich kolejność była inna. Pomimo tego, że kombinatoryka jest znacznie szerszym działem matematyki, w naszych zastowaniach będziemy wykorzystywać głównie pytania tego rodzaju. "
   ]
  },
  {
   "cell_type": "markdown",
   "metadata": {},
   "source": [
    "#### **1. Permutacja**\n",
    "Zastanówmy się na ile spsosobów może się zakończyć wyścig 4 zawodników, pod warunkiem, że nie będzie remisów."
   ]
  },
  {
   "cell_type": "code",
   "execution_count": 1,
   "metadata": {},
   "outputs": [
    {
     "name": "stdout",
     "output_type": "stream",
     "text": [
      "Option 1:    1.A 2.B 3.C 4.D\n",
      "Option 2:    1.A 2.B 3.D 4.C\n",
      "Option 3:    1.A 2.C 3.B 4.D\n",
      "Option 4:    1.A 2.C 3.D 4.B\n",
      "Option 5:    1.A 2.D 3.B 4.C\n",
      "Option 6:    1.A 2.D 3.C 4.B\n",
      "Option 7:    1.B 2.A 3.C 4.D\n",
      "Option 8:    1.B 2.A 3.D 4.C\n",
      "Option 9:    1.B 2.C 3.A 4.D\n",
      "Option 10:   1.B 2.C 3.D 4.A\n",
      "Option 11:   1.B 2.D 3.A 4.C\n",
      "Option 12:   1.B 2.D 3.C 4.A\n",
      "Option 13:   1.C 2.A 3.B 4.D\n",
      "Option 14:   1.C 2.A 3.D 4.B\n",
      "Option 15:   1.C 2.B 3.A 4.D\n",
      "Option 16:   1.C 2.B 3.D 4.A\n",
      "Option 17:   1.C 2.D 3.A 4.B\n",
      "Option 18:   1.C 2.D 3.B 4.A\n",
      "Option 19:   1.D 2.A 3.B 4.C\n",
      "Option 20:   1.D 2.A 3.C 4.B\n",
      "Option 21:   1.D 2.B 3.A 4.C\n",
      "Option 22:   1.D 2.B 3.C 4.A\n",
      "Option 23:   1.D 2.C 3.A 4.B\n",
      "Option 24:   1.D 2.C 3.B 4.A\n"
     ]
    }
   ],
   "source": [
    "from itertools import permutations\n",
    "\n",
    "for i, p in enumerate(permutations('ABCD', 4)):\n",
    "    print(f'Option {i+1}:'.ljust(12), '1.{} 2.{} 3.{} 4.{}'.format(*p))"
   ]
  },
  {
   "cell_type": "markdown",
   "metadata": {},
   "source": [
    "Po wypisaniu wszystkich możliwości, widzimy, że wyścig może zakończyć się na 24 różne sposoby. Inaczej mówiąc, zbiór 4-elementowy ma 24 permutacje. Możemy to zapisać jako $P_4=24$. Liczba wszystkich permutacji to liczba różnych sposobów ustawienia elementów zbioru w kolejności. Spróbujmy otrzymać ogolną postać wyrażenia $P_n$ czyli liczby permumtacji zbioru n-elementowego. \n",
    "\n",
    "*Rozumowanie*\n",
    "\n",
    "Weźmy skończony zbiór składający się z n-elementów ($a_1$, $a_2$, ..., $a_n$). Wyobraźmy sobie, że będziemy tworzyć ciągi z tych elementów. Możemy pomyśleć, że przed stworzeniem ciągu dysponujemy ponumerowanymi pustymi miejscami, w które będziemy wstawiać wyrazy ciągu:\n",
    "$$\\_ \\quad \\_ \\quad \\_ \\quad \\_ \\quad \\dots \\quad \\_$$ \n",
    "$$1 \\quad 2 \\quad 3 \\quad 4 \\quad \\dots \\quad n$$ \n",
    "Na pierwszym miejscu może się znaleźć dowolny z n wyrazów ciągu.\n",
    "$$a_1 \\quad \\_ \\quad \\_ \\quad \\_ \\quad \\dots \\quad \\_$$ \n",
    "$$a_2 \\quad \\_ \\quad \\_ \\quad \\_ \\quad \\dots \\quad \\_$$ \n",
    "$$\\dots$$ \n",
    "$$a_n \\quad \\_ \\quad \\_ \\quad \\_ \\quad \\dots \\quad \\_$$ \n",
    "\n",
    "Daje nam to n możliwości. Rozważmy pierwszą z nich. W tej możliwości mamy już zajęte miejsce numer 1 (przez element $a_1$, pozostaje więc n-1 miejsc do obsadzenia. Mamy do do dyspozycji n-1 elementów (wszystkie za wyjątkiem $a_1$), więc tworzy to dodatkowe n-1 możliwości:\n",
    "$$a_1 \\quad a_2 \\quad \\_ \\quad \\_ \\quad \\dots \\quad \\_$$ \n",
    "$$a_1 \\quad a_3 \\quad \\_ \\quad \\_ \\quad \\dots \\quad \\_$$ \n",
    "$$\\dots$$ \n",
    "$$a_1 \\quad a_n \\quad \\_ \\quad \\_ \\quad \\dots \\quad \\_$$ \n",
    "\n",
    "Dokladnie tyle samo możliwości daje nam sytuacja, w której element $a_2$ (lub dowolny inny) znajduje się na miejscu numer 1. Zatem chcąc zapełnić dwa pierwsze miejsca mamy $n(n-1)$ różnych możliwości – pierwsze miejsce zapełniamy dowolnym elementem ciągu, drugie zapełniamy dowolnym z n-1 pozostałych elementów. Takie rozumowanie możemy ponowić dla miejsca numer 3, 4, itd.\n",
    "Ostatecznie widzimy, że liczba różnych permutacji będzie równa:\n",
    "\n",
    "$$P_n=n(n-1)(n-2)\\dots2\\cdot1=n!$$\n"
   ]
  },
  {
   "cell_type": "code",
   "execution_count": 2,
   "metadata": {},
   "outputs": [
    {
     "name": "stdout",
     "output_type": "stream",
     "text": [
      "4! =  24\n"
     ]
    }
   ],
   "source": [
    "from math import factorial\n",
    "\n",
    "print('4! = ', factorial(4))"
   ]
  },
  {
   "cell_type": "markdown",
   "metadata": {},
   "source": [
    "Widzimy, że liczba wszystkich wypisanych permutacji odpowiada wyrażeniu $4!$, czyli jest zgodna z wydedukowanym wzorem ogólnym."
   ]
  },
  {
   "cell_type": "markdown",
   "metadata": {},
   "source": [
    "#### **2. Wariacja bez powtórzeń**\n",
    "Załóżmy, że chcemy stworzyć kod PIN do telefonu wykorzystując jedynie cyfry od 0 do 4. Chcemy, aby w naszym kodzie PIN, żadna cyfra nie powtórzyła się. Ile mamy różnych możliwości do wyboru?"
   ]
  },
  {
   "cell_type": "code",
   "execution_count": 3,
   "metadata": {},
   "outputs": [
    {
     "name": "stdout",
     "output_type": "stream",
     "text": [
      "PIN 1:     0123\n",
      "PIN 2:     0124\n",
      "PIN 3:     0132\n",
      "PIN 4:     0134\n",
      "PIN 5:     0142\n",
      "PIN 6:     0143\n",
      "PIN 7:     0213\n",
      "PIN 8:     0214\n",
      "PIN 9:     0231\n",
      "PIN 10:    0234\n",
      "PIN 11:    0241\n",
      "PIN 12:    0243\n",
      "PIN 13:    0312\n",
      "PIN 14:    0314\n",
      "PIN 15:    0321\n",
      "PIN 16:    0324\n",
      "PIN 17:    0341\n",
      "PIN 18:    0342\n",
      "PIN 19:    0412\n",
      "PIN 20:    0413\n",
      "PIN 21:    0421\n",
      "PIN 22:    0423\n",
      "PIN 23:    0431\n",
      "PIN 24:    0432\n",
      "PIN 25:    1023\n",
      "PIN 26:    1024\n",
      "PIN 27:    1032\n",
      "PIN 28:    1034\n",
      "PIN 29:    1042\n",
      "PIN 30:    1043\n",
      "PIN 31:    1203\n",
      "PIN 32:    1204\n",
      "PIN 33:    1230\n",
      "PIN 34:    1234\n",
      "PIN 35:    1240\n",
      "PIN 36:    1243\n",
      "PIN 37:    1302\n",
      "PIN 38:    1304\n",
      "PIN 39:    1320\n",
      "PIN 40:    1324\n",
      "PIN 41:    1340\n",
      "PIN 42:    1342\n",
      "PIN 43:    1402\n",
      "PIN 44:    1403\n",
      "PIN 45:    1420\n",
      "PIN 46:    1423\n",
      "PIN 47:    1430\n",
      "PIN 48:    1432\n",
      "PIN 49:    2013\n",
      "PIN 50:    2014\n",
      "PIN 51:    2031\n",
      "PIN 52:    2034\n",
      "PIN 53:    2041\n",
      "PIN 54:    2043\n",
      "PIN 55:    2103\n",
      "PIN 56:    2104\n",
      "PIN 57:    2130\n",
      "PIN 58:    2134\n",
      "PIN 59:    2140\n",
      "PIN 60:    2143\n",
      "PIN 61:    2301\n",
      "PIN 62:    2304\n",
      "PIN 63:    2310\n",
      "PIN 64:    2314\n",
      "PIN 65:    2340\n",
      "PIN 66:    2341\n",
      "PIN 67:    2401\n",
      "PIN 68:    2403\n",
      "PIN 69:    2410\n",
      "PIN 70:    2413\n",
      "PIN 71:    2430\n",
      "PIN 72:    2431\n",
      "PIN 73:    3012\n",
      "PIN 74:    3014\n",
      "PIN 75:    3021\n",
      "PIN 76:    3024\n",
      "PIN 77:    3041\n",
      "PIN 78:    3042\n",
      "PIN 79:    3102\n",
      "PIN 80:    3104\n",
      "PIN 81:    3120\n",
      "PIN 82:    3124\n",
      "PIN 83:    3140\n",
      "PIN 84:    3142\n",
      "PIN 85:    3201\n",
      "PIN 86:    3204\n",
      "PIN 87:    3210\n",
      "PIN 88:    3214\n",
      "PIN 89:    3240\n",
      "PIN 90:    3241\n",
      "PIN 91:    3401\n",
      "PIN 92:    3402\n",
      "PIN 93:    3410\n",
      "PIN 94:    3412\n",
      "PIN 95:    3420\n",
      "PIN 96:    3421\n",
      "PIN 97:    4012\n",
      "PIN 98:    4013\n",
      "PIN 99:    4021\n",
      "PIN 100:   4023\n",
      "PIN 101:   4031\n",
      "PIN 102:   4032\n",
      "PIN 103:   4102\n",
      "PIN 104:   4103\n",
      "PIN 105:   4120\n",
      "PIN 106:   4123\n",
      "PIN 107:   4130\n",
      "PIN 108:   4132\n",
      "PIN 109:   4201\n",
      "PIN 110:   4203\n",
      "PIN 111:   4210\n",
      "PIN 112:   4213\n",
      "PIN 113:   4230\n",
      "PIN 114:   4231\n",
      "PIN 115:   4301\n",
      "PIN 116:   4302\n",
      "PIN 117:   4310\n",
      "PIN 118:   4312\n",
      "PIN 119:   4320\n",
      "PIN 120:   4321\n"
     ]
    }
   ],
   "source": [
    "from itertools import permutations\n",
    "\n",
    "for i, v in enumerate(permutations(''.join(str(d) for d in range(5)), 4)):\n",
    "    print(f'PIN {i+1}:'.ljust(10), ''.join(v))"
   ]
  },
  {
   "cell_type": "markdown",
   "metadata": {},
   "source": [
    "Wypisaliśmy wszystkie 120 sposóbów utworzenia 4 cyfrowego PINU z 5 cyfr, przy założeniu, że żadna cyfra nie może się powtórzyć. Możemy to zapisać jako $V^4_5$. Unikatowe ciągi k-elementowe stworzone ze zbioru n elementów nazywamy **wariacjami bez powtórzeń** i oznaczamy symbolem $V^k_n$. Widzimy, że dla k=n, liczba wariacji bez powtórzeń jest równa liczbie permutacji zbioru n-elementowgo. Spróbujmy otrzymać ogólny wzór na $V^k_n$, posługując się rozumowaniem podobnym do tego, które wykorzystaliśmy przy analizie permutacji.  \n",
    "\n",
    "*Rozumowanie*\n",
    "\n",
    "Weźmy zbiór n-elementów. Podobnie jak w przypadku permutacji, będziemy z niego tworzyć ciągi, lecz tym razem o długości k. Przed stworzeniem ciągu mamy zatem k miejsc do obsadzenia.\n",
    "$$\\_ \\quad \\_ \\quad \\_ \\quad \\_ \\quad \\dots \\quad \\_$$ \n",
    "$$1 \\quad 2 \\quad 3 \\quad 4 \\quad \\dots \\quad k$$ \n",
    "Na pierwszym miejscu (dokładnie tak samo jak w permutacji) może się znaleźć dowolny spośród n elementów, na drugim dowolny spośród n-1 elementów i tak dalej. Na ostatnim k-tym miejscu może znaleźć się dowolny spośród pozostałych n-k+1 elementów. Dla każdego miejsca liczba możliwości wygląda następująco\n",
    "$$n \\quad n-1 \\quad n-2 \\quad n-3 \\quad \\dots \\quad n-k+1$$ \n",
    "Możemy zatem utworzyć $n(n-1)(n-2)\\dots(n-k+1)$ unikatowych ciągów k elementowych spośród n elementów:\n",
    "\n",
    "$$V^k_n=n(n-1)(n-2)\\dots(n-k+1)=\\frac{n(n-1)(n-2)\\dots2\\cdot1}{(n-k)(n-k-1)\\dots2\\cdot1}=\\frac{n!}{(n-k)!}$$\n",
    "\n",
    "Dla k=n $V^k_n=\\frac{n!}{0!}=\\frac{n!}{1}=n!=P_k$, czyli zgodnie ze wcześniejszą obserwacją, dla k=n liczba wariacji bez powtórzeń jest równa liczbie permutacji zbioru n-elementowo."
   ]
  },
  {
   "cell_type": "code",
   "execution_count": 4,
   "metadata": {},
   "outputs": [
    {
     "name": "stdout",
     "output_type": "stream",
     "text": [
      "5! / (5-4)! =  120\n"
     ]
    }
   ],
   "source": [
    "from math import factorial\n",
    "\n",
    "print('5! / (5-4)! = ', factorial(5) // factorial(1))"
   ]
  },
  {
   "cell_type": "markdown",
   "metadata": {},
   "source": [
    "Widzimy, że liczba wszystkich wypisanych kodów PIN $\\frac{5!}{(5-4)!}$ wynosi 120, czyli jest zgodna z wydedukowanym wzorem ogólnym."
   ]
  },
  {
   "cell_type": "markdown",
   "metadata": {},
   "source": [
    "#### **3. Kombinacja**\n",
    "Wybierzmy grupę 6 osób. Każda z osób wita się z pozostałymi osobami poprzez zetknięcie łokci. Zastanówmy się ile zetknięć łokci potrzeba, aby wszyscy przywitali się ze wszystkimi."
   ]
  },
  {
   "cell_type": "code",
   "execution_count": 5,
   "metadata": {},
   "outputs": [
    {
     "name": "stdout",
     "output_type": "stream",
     "text": [
      "Option 1:    p1 >< p2\n",
      "Option 2:    p1 >< p3\n",
      "Option 3:    p1 >< p4\n",
      "Option 4:    p1 >< p5\n",
      "Option 5:    p1 >< p6\n",
      "Option 6:    p2 >< p3\n",
      "Option 7:    p2 >< p4\n",
      "Option 8:    p2 >< p5\n",
      "Option 9:    p2 >< p6\n",
      "Option 10:   p3 >< p4\n",
      "Option 11:   p3 >< p5\n",
      "Option 12:   p3 >< p6\n",
      "Option 13:   p4 >< p5\n",
      "Option 14:   p4 >< p6\n",
      "Option 15:   p5 >< p6\n"
     ]
    }
   ],
   "source": [
    "from itertools import combinations\n",
    "\n",
    "for i, c in enumerate(combinations(''.join(str(d) for d in range(1,7)), 2)):\n",
    "    print(f'Option {i+1}:'.ljust(12), 'p{} >< p{}'.format(*c))"
   ]
  },
  {
   "cell_type": "markdown",
   "metadata": {},
   "source": [
    "Po wypisaniu wszystkich sposobów, widzimy, że potrzeba było 15 zetknięć. Inaczej mówiąc, mamy 15 kombinacji 2-elementowych ze zbioru 6-elementowego. Możemy to zapisać jako $C^2_6=15$. Kombinacja k-elementowa ze zbioru n-elementowego to unikatowy sposób wyboru k elementów spośród n elementów. W kombinacjach nie interesuje nas kolejność elementów (nie ma znaczenia czy osoba numer 1 wita się z osobą numer 2 czy na odwrót – ważna jest sama \"przynależność dwóch osób do danego powitania\"). Spróbujmy otrzymać wzór ogólny na $C^k_n$.\n",
    "\n",
    "*Rozumowanie*\n",
    "\n",
    "Z poprzednich rozważań wiemy, że spośród n-elementów możemy wybrać $V^k_n$ unikatowych ciągów k-elementowych. Spróbujmy wykorzystać tą wiedzę do otrzymania wzoru na liczbę kombinacji. W liczeniu kombinacji nie interesuje nas jednak kolejność, a jedynie fakt przynaleźności do wybranego podzbioru. Z tego względu oczekujemy, że liczba kombinacji $C^k_n$ powinna być mniejsza od liczby wariacji bez powtórzeń $V^k_n$. \n",
    "\n",
    "Aby zbadać relację $V^k_n$ i $C^k_n$ posłużmy się konkretnym przykładem. Weźmy n=6 i k=3. Liczba wariacji bez powtórzeń dla tych wartości wynosi $V^3_6=\\frac{6!}{(6-3)!}=\\frac{6!}{3!}=120$. Oznacza to, że mamy 120 **unikatowych ciągów** 3-elementowych spośród 6 elementów. Chcemy teraz dowiedzieć się ile mamy **unikatowych podzbiorów** 3-elementowych ze zbioru 6 elementów. Dla każdego 3-elementowego podzbioru, czyli każdej trójki, możemy stworzyć $P_3=6$ unikatowych ciągów. W związku tym mamy następującą relację: $C^3_6 \\cdot P_3 = V^3_6$. Widzimy, że aby otrzymać liczbę kombinacji wykrzystując wariacje bez powtórzeń musimy uwzględnić fakt, że każdy podzbiór \"występuje\" wielokrotnie jako ciąg o tych samych elementach, lecz ustawiony w różnej kolejności. Przykładowo, mając zbiór 6 liter $\\{a, b, c, d, e, f\\}$, na jeden podzbiór 3 liter, np. $\\{a,e,f\\}$, przypada dokładnie 6 różnych wariacji bez powtórzeń: $(a, e, f)$, $(a, f, e)$, $(e, a, f)$, $(e, f, a)$, $(f, a, e)$ oraz $(f, e, a)$. W ogólności na każdy podzbiór k-elementowy przypada dokładnie $P_k$ odpowiadających wariacji bez powtórzeń. Wykorzystajmy tę obserwację aby otrzymać wyrażenie ogólne na $C^k_n$:\n",
    "\n",
    "$$C^k_n=\\frac{V^k_n}{P_k}=\\frac{\\frac{n!}{(n-k)!}}{k!}=\\frac{n!}{(n-k)!k!}=\\binom{n}{k}$$\n",
    "\n",
    "Wyrażenie $\\binom{n}{k}$ nazywane jest [symbolem Newtona](https://pl.wikipedia.org/wiki/Symbol_Newtona)."
   ]
  },
  {
   "cell_type": "code",
   "execution_count": 6,
   "metadata": {},
   "outputs": [
    {
     "data": {
      "text/plain": [
       "15"
      ]
     },
     "execution_count": 6,
     "metadata": {},
     "output_type": "execute_result"
    }
   ],
   "source": [
    "from math import factorial\n",
    "\n",
    "factorial(6) // (factorial(2) * factorial(4))"
   ]
  },
  {
   "cell_type": "markdown",
   "metadata": {},
   "source": [
    "Widzimy, że liczba wszystkich kombinacji równa $\\binom{6}{2}=15$ jest zgodna ze wzorem ogólnym."
   ]
  },
  {
   "cell_type": "markdown",
   "metadata": {},
   "source": [
    "#### **4. Wariacja z powtórzeniami**\n",
    "Załóżmy że dysponujemy 5 symbolami (mamy alfabet składający się z 5 znaków). Ile różnych słów, składających się z 3 znaków możemy utworzyć w takiej sytuacji?"
   ]
  },
  {
   "cell_type": "code",
   "execution_count": 7,
   "metadata": {},
   "outputs": [
    {
     "name": "stdout",
     "output_type": "stream",
     "text": [
      "Word 1:    aaa\n",
      "Word 2:    aab\n",
      "Word 3:    aac\n",
      "Word 4:    aad\n",
      "Word 5:    aae\n",
      "Word 6:    aba\n",
      "Word 7:    abb\n",
      "Word 8:    abc\n",
      "Word 9:    abd\n",
      "Word 10:   abe\n",
      "Word 11:   aca\n",
      "Word 12:   acb\n",
      "Word 13:   acc\n",
      "Word 14:   acd\n",
      "Word 15:   ace\n",
      "Word 16:   ada\n",
      "Word 17:   adb\n",
      "Word 18:   adc\n",
      "Word 19:   add\n",
      "Word 20:   ade\n",
      "Word 21:   aea\n",
      "Word 22:   aeb\n",
      "Word 23:   aec\n",
      "Word 24:   aed\n",
      "Word 25:   aee\n",
      "Word 26:   baa\n",
      "Word 27:   bab\n",
      "Word 28:   bac\n",
      "Word 29:   bad\n",
      "Word 30:   bae\n",
      "Word 31:   bba\n",
      "Word 32:   bbb\n",
      "Word 33:   bbc\n",
      "Word 34:   bbd\n",
      "Word 35:   bbe\n",
      "Word 36:   bca\n",
      "Word 37:   bcb\n",
      "Word 38:   bcc\n",
      "Word 39:   bcd\n",
      "Word 40:   bce\n",
      "Word 41:   bda\n",
      "Word 42:   bdb\n",
      "Word 43:   bdc\n",
      "Word 44:   bdd\n",
      "Word 45:   bde\n",
      "Word 46:   bea\n",
      "Word 47:   beb\n",
      "Word 48:   bec\n",
      "Word 49:   bed\n",
      "Word 50:   bee\n",
      "Word 51:   caa\n",
      "Word 52:   cab\n",
      "Word 53:   cac\n",
      "Word 54:   cad\n",
      "Word 55:   cae\n",
      "Word 56:   cba\n",
      "Word 57:   cbb\n",
      "Word 58:   cbc\n",
      "Word 59:   cbd\n",
      "Word 60:   cbe\n",
      "Word 61:   cca\n",
      "Word 62:   ccb\n",
      "Word 63:   ccc\n",
      "Word 64:   ccd\n",
      "Word 65:   cce\n",
      "Word 66:   cda\n",
      "Word 67:   cdb\n",
      "Word 68:   cdc\n",
      "Word 69:   cdd\n",
      "Word 70:   cde\n",
      "Word 71:   cea\n",
      "Word 72:   ceb\n",
      "Word 73:   cec\n",
      "Word 74:   ced\n",
      "Word 75:   cee\n",
      "Word 76:   daa\n",
      "Word 77:   dab\n",
      "Word 78:   dac\n",
      "Word 79:   dad\n",
      "Word 80:   dae\n",
      "Word 81:   dba\n",
      "Word 82:   dbb\n",
      "Word 83:   dbc\n",
      "Word 84:   dbd\n",
      "Word 85:   dbe\n",
      "Word 86:   dca\n",
      "Word 87:   dcb\n",
      "Word 88:   dcc\n",
      "Word 89:   dcd\n",
      "Word 90:   dce\n",
      "Word 91:   dda\n",
      "Word 92:   ddb\n",
      "Word 93:   ddc\n",
      "Word 94:   ddd\n",
      "Word 95:   dde\n",
      "Word 96:   dea\n",
      "Word 97:   deb\n",
      "Word 98:   dec\n",
      "Word 99:   ded\n",
      "Word 100:  dee\n",
      "Word 101:  eaa\n",
      "Word 102:  eab\n",
      "Word 103:  eac\n",
      "Word 104:  ead\n",
      "Word 105:  eae\n",
      "Word 106:  eba\n",
      "Word 107:  ebb\n",
      "Word 108:  ebc\n",
      "Word 109:  ebd\n",
      "Word 110:  ebe\n",
      "Word 111:  eca\n",
      "Word 112:  ecb\n",
      "Word 113:  ecc\n",
      "Word 114:  ecd\n",
      "Word 115:  ece\n",
      "Word 116:  eda\n",
      "Word 117:  edb\n",
      "Word 118:  edc\n",
      "Word 119:  edd\n",
      "Word 120:  ede\n",
      "Word 121:  eea\n",
      "Word 122:  eeb\n",
      "Word 123:  eec\n",
      "Word 124:  eed\n",
      "Word 125:  eee\n"
     ]
    }
   ],
   "source": [
    "from itertools import product\n",
    "\n",
    "for i, c in enumerate(product('abcde', repeat=3)):\n",
    "    print(f'Word {i+1}:'.ljust(10), ''.join(c))"
   ]
  },
  {
   "cell_type": "markdown",
   "metadata": {},
   "source": [
    "Po wypisaniu wszystkich sposobów, widzimy, że przy użyciu 5 liter oraz długości słowa równej 3 można utworzyć 125 unikatowych słów. W wariacji z powtórzeniami, podobnie jak w wariacji bez powtórzeń, tworzymy ciągi k-elemntowe wybierając spośród n-elementów, lecz umożliwiamy powtarzanie się elementu w ramach ciągu. Wariację z powtórzeniami zapisujemy wykorzystując symbol $W^k_n$, więc w naszym przykładzie $W^3_5=125$. Otrzymanie wyrażenia ogólnego na $W^k_n$ jest bardzo łatwe.\n",
    "\n",
    "*Rozumowanie*\n",
    "\n",
    "Skoro nie musimy unikać powtórzeń, na każde z k wolnych miejsc możemy wstawić dowolny spośród n symboli. Równocześnie każde miejsce możemy obsadzić niezależnie od innego, nie musząc przejmować się, że stworzyliśmy \"nadmiarową\" ilość ciągów. W związku z tym całkowita ilość ciągów wynosi:\n",
    "\n",
    "$$W^k_n = n\\cdot n\\cdot \\dots \\cdot n = n^k$$"
   ]
  },
  {
   "cell_type": "code",
   "execution_count": 8,
   "metadata": {},
   "outputs": [
    {
     "name": "stdout",
     "output_type": "stream",
     "text": [
      "125\n"
     ]
    }
   ],
   "source": [
    "print(5 ** 3)"
   ]
  }
 ],
 "metadata": {
  "kernelspec": {
   "display_name": "Python 3.8 64-bit ('decidenet': conda)",
   "language": "python",
   "name": "decidenet"
  },
  "language_info": {
   "codemirror_mode": {
    "name": "ipython",
    "version": 3
   },
   "file_extension": ".py",
   "mimetype": "text/x-python",
   "name": "python",
   "nbconvert_exporter": "python",
   "pygments_lexer": "ipython3",
   "version": "3.8.1"
  }
 },
 "nbformat": 4,
 "nbformat_minor": 4
}
