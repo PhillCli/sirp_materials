{
 "cells": [
  {
   "cell_type": "markdown",
   "metadata": {},
   "source": [
    "## Prawdopodobieństwo klasyczne"
   ]
  },
  {
   "cell_type": "markdown",
   "metadata": {},
   "source": [
    "### Kombinatoryka\n",
    "\n",
    "Kombinatoryka jest działem matematyki zajmującym się sposobem liczenia struktur przeliczalnych (takich, których elementy można ustawić w ciąg, tzn. \"wypisać po kolei\"). Kombinatoryka zawdzięcza swój rozwój teorii prawdopodobieństwa, z którą jest silnie związana. Z naszego puntku widzenia kombinatoryka pozwoli nam określać **na ile sposobów da się utworzyć dany wzorzec wybierając elementy ze skończonego zbioru**. Dla przykładu wybierzmy zbiór 20 osób. Z tych 20 osób możemy tworzyć różne \"wzorce\". Możemy na przykład zapytać ile różnych grup trzyosobowych możemy wybrać albo na ile sposobów da się ustawić wszystkie osoby w kolejkę, tak aby za każdym razem ich kolejność była inna. Pomimo tego, że kombinatoryka jest znacznie szerszym działem matematyki, w naszych zastowaniach będziemy wykorzystywać głównie pytania tego rodzaju. "
   ]
  },
  {
   "cell_type": "markdown",
   "metadata": {},
   "source": [
    "#### **1. Permutacja**\n",
    "Zastanówmy się na ile spsosobów może się zakończyć wyścig 4 zawodników, pod warunkiem, że nie będzie remisów."
   ]
  },
  {
   "cell_type": "code",
   "execution_count": 1,
   "metadata": {},
   "outputs": [
    {
     "name": "stdout",
     "output_type": "stream",
     "text": [
      "Option 1:    1.A 2.B 3.C 4.D\n",
      "Option 2:    1.A 2.B 3.D 4.C\n",
      "Option 3:    1.A 2.C 3.B 4.D\n",
      "Option 4:    1.A 2.C 3.D 4.B\n",
      "Option 5:    1.A 2.D 3.B 4.C\n",
      "Option 6:    1.A 2.D 3.C 4.B\n",
      "Option 7:    1.B 2.A 3.C 4.D\n",
      "Option 8:    1.B 2.A 3.D 4.C\n",
      "Option 9:    1.B 2.C 3.A 4.D\n",
      "Option 10:   1.B 2.C 3.D 4.A\n",
      "Option 11:   1.B 2.D 3.A 4.C\n",
      "Option 12:   1.B 2.D 3.C 4.A\n",
      "Option 13:   1.C 2.A 3.B 4.D\n",
      "Option 14:   1.C 2.A 3.D 4.B\n",
      "Option 15:   1.C 2.B 3.A 4.D\n",
      "Option 16:   1.C 2.B 3.D 4.A\n",
      "Option 17:   1.C 2.D 3.A 4.B\n",
      "Option 18:   1.C 2.D 3.B 4.A\n",
      "Option 19:   1.D 2.A 3.B 4.C\n",
      "Option 20:   1.D 2.A 3.C 4.B\n",
      "Option 21:   1.D 2.B 3.A 4.C\n",
      "Option 22:   1.D 2.B 3.C 4.A\n",
      "Option 23:   1.D 2.C 3.A 4.B\n",
      "Option 24:   1.D 2.C 3.B 4.A\n"
     ]
    }
   ],
   "source": [
    "from itertools import permutations\n",
    "\n",
    "for i, p in enumerate(permutations('ABCD', 4)):\n",
    "    print(f'Option {i+1}:'.ljust(12), '1.{} 2.{} 3.{} 4.{}'.format(*p))"
   ]
  },
  {
   "cell_type": "markdown",
   "metadata": {},
   "source": [
    "Po wypisaniu wszystkich możliwości, widzimy, że wyścig może zakończyć się na 24 różne sposoby. Inaczej mówiąc, zbiór 4-elementowy ma 24 permutacje. Możemy to zapisać jako $P_4=24$. Liczba wszystkich permutacji to liczba różnych sposobów ustawienia elementów zbioru w kolejności. Spróbujmy otrzymać ogolną postać wyrażenia $P_n$ czyli liczby permumtacji zbioru n-elementowego. \n",
    "\n",
    "*Rozumowanie*\n",
    "\n",
    "Weźmy skończony zbiór składający się z n-elementów ($a_1$, $a_2$, ..., $a_n$). Wyobraźmy sobie, że będziemy tworzyć ciągi z tych elementów. Możemy pomyśleć, że przed stworzeniem ciągu dysponujemy ponumerowanymi pustymi miejscami, w które będziemy wstawiać wyrazy ciągu:\n",
    "$$\\_ \\quad \\_ \\quad \\_ \\quad \\_ \\quad \\dots \\quad \\_$$ \n",
    "$$1 \\quad 2 \\quad 3 \\quad 4 \\quad \\dots \\quad n$$ \n",
    "Na pierwszym miejscu może się znaleźć dowolny z n wyrazów ciągu.\n",
    "$$a_1 \\quad \\_ \\quad \\_ \\quad \\_ \\quad \\dots \\quad \\_$$ \n",
    "$$a_2 \\quad \\_ \\quad \\_ \\quad \\_ \\quad \\dots \\quad \\_$$ \n",
    "$$\\dots$$ \n",
    "$$a_n \\quad \\_ \\quad \\_ \\quad \\_ \\quad \\dots \\quad \\_$$ \n",
    "\n",
    "Daje nam to n możliwości. Rozważmy pierwszą z nich. W tej możliwości mamy już zajęte miejsce numer 1 (przez element $a_1$, pozostaje więc n-1 miejsc do obsadzenia. Mamy do do dyspozycji n-1 elementów (wszystkie za wyjątkiem $a_1$), więc tworzy to dodatkowe n-1 możliwości:\n",
    "$$a_1 \\quad a_2 \\quad \\_ \\quad \\_ \\quad \\dots \\quad \\_$$ \n",
    "$$a_1 \\quad a_3 \\quad \\_ \\quad \\_ \\quad \\dots \\quad \\_$$ \n",
    "$$\\dots$$ \n",
    "$$a_1 \\quad a_n \\quad \\_ \\quad \\_ \\quad \\dots \\quad \\_$$ \n",
    "\n",
    "Dokladnie tyle samo możliwości daje nam sytuacja, w której element $a_2$ (lub dowolny inny) znajduje się na miejscu numer 1. Zatem chcąc zapełnić dwa pierwsze miejsca mamy $n(n-1)$ różnych możliwości – pierwsze miejsce zapełniamy dowolnym elementem ciągu, drugie zapełniamy dowolnym z n-1 pozostałych elementów. Takie rozumowanie możemy ponowić dla miejsca numer 3, 4, itd.\n",
    "Ostatecznie widzimy, że liczba różnych permutacji będzie równa:\n",
    "\n",
    "$$P_n=n(n-1)(n-2)\\dots2\\cdot1=n!$$\n"
   ]
  },
  {
   "cell_type": "code",
   "execution_count": 2,
   "metadata": {},
   "outputs": [
    {
     "name": "stdout",
     "output_type": "stream",
     "text": [
      "4! =  24\n"
     ]
    }
   ],
   "source": [
    "from math import factorial\n",
    "\n",
    "print('4! = ', factorial(4))"
   ]
  },
  {
   "cell_type": "markdown",
   "metadata": {},
   "source": [
    "Widzimy, że liczba wszystkich wypisanych permutacji odpowiada wyrażeniu $4!$, czyli jest zgodna z wydedukowanym wzorem ogólnym."
   ]
  },
  {
   "cell_type": "markdown",
   "metadata": {},
   "source": [
    "#### **2. Wariacja bez powtórzeń**\n",
    "Załóżmy, że chcemy stworzyć kod PIN do telefonu wykorzystując jedynie cyfry od 0 do 4. Chcemy, aby w naszym kodzie PIN, żadna cyfra nie powtórzyła się. Ile mamy różnych możliwości do wyboru?"
   ]
  },
  {
   "cell_type": "code",
   "execution_count": 3,
   "metadata": {},
   "outputs": [
    {
     "name": "stdout",
     "output_type": "stream",
     "text": [
      "PIN 1:     0123\n",
      "PIN 2:     0124\n",
      "PIN 3:     0132\n",
      "PIN 4:     0134\n",
      "PIN 5:     0142\n",
      "PIN 6:     0143\n",
      "PIN 7:     0213\n",
      "PIN 8:     0214\n",
      "PIN 9:     0231\n",
      "PIN 10:    0234\n",
      "PIN 11:    0241\n",
      "PIN 12:    0243\n",
      "PIN 13:    0312\n",
      "PIN 14:    0314\n",
      "PIN 15:    0321\n",
      "PIN 16:    0324\n",
      "PIN 17:    0341\n",
      "PIN 18:    0342\n",
      "PIN 19:    0412\n",
      "PIN 20:    0413\n",
      "PIN 21:    0421\n",
      "PIN 22:    0423\n",
      "PIN 23:    0431\n",
      "PIN 24:    0432\n",
      "PIN 25:    1023\n",
      "PIN 26:    1024\n",
      "PIN 27:    1032\n",
      "PIN 28:    1034\n",
      "PIN 29:    1042\n",
      "PIN 30:    1043\n",
      "PIN 31:    1203\n",
      "PIN 32:    1204\n",
      "PIN 33:    1230\n",
      "PIN 34:    1234\n",
      "PIN 35:    1240\n",
      "PIN 36:    1243\n",
      "PIN 37:    1302\n",
      "PIN 38:    1304\n",
      "PIN 39:    1320\n",
      "PIN 40:    1324\n",
      "PIN 41:    1340\n",
      "PIN 42:    1342\n",
      "PIN 43:    1402\n",
      "PIN 44:    1403\n",
      "PIN 45:    1420\n",
      "PIN 46:    1423\n",
      "PIN 47:    1430\n",
      "PIN 48:    1432\n",
      "PIN 49:    2013\n",
      "PIN 50:    2014\n",
      "PIN 51:    2031\n",
      "PIN 52:    2034\n",
      "PIN 53:    2041\n",
      "PIN 54:    2043\n",
      "PIN 55:    2103\n",
      "PIN 56:    2104\n",
      "PIN 57:    2130\n",
      "PIN 58:    2134\n",
      "PIN 59:    2140\n",
      "PIN 60:    2143\n",
      "PIN 61:    2301\n",
      "PIN 62:    2304\n",
      "PIN 63:    2310\n",
      "PIN 64:    2314\n",
      "PIN 65:    2340\n",
      "PIN 66:    2341\n",
      "PIN 67:    2401\n",
      "PIN 68:    2403\n",
      "PIN 69:    2410\n",
      "PIN 70:    2413\n",
      "PIN 71:    2430\n",
      "PIN 72:    2431\n",
      "PIN 73:    3012\n",
      "PIN 74:    3014\n",
      "PIN 75:    3021\n",
      "PIN 76:    3024\n",
      "PIN 77:    3041\n",
      "PIN 78:    3042\n",
      "PIN 79:    3102\n",
      "PIN 80:    3104\n",
      "PIN 81:    3120\n",
      "PIN 82:    3124\n",
      "PIN 83:    3140\n",
      "PIN 84:    3142\n",
      "PIN 85:    3201\n",
      "PIN 86:    3204\n",
      "PIN 87:    3210\n",
      "PIN 88:    3214\n",
      "PIN 89:    3240\n",
      "PIN 90:    3241\n",
      "PIN 91:    3401\n",
      "PIN 92:    3402\n",
      "PIN 93:    3410\n",
      "PIN 94:    3412\n",
      "PIN 95:    3420\n",
      "PIN 96:    3421\n",
      "PIN 97:    4012\n",
      "PIN 98:    4013\n",
      "PIN 99:    4021\n",
      "PIN 100:   4023\n",
      "PIN 101:   4031\n",
      "PIN 102:   4032\n",
      "PIN 103:   4102\n",
      "PIN 104:   4103\n",
      "PIN 105:   4120\n",
      "PIN 106:   4123\n",
      "PIN 107:   4130\n",
      "PIN 108:   4132\n",
      "PIN 109:   4201\n",
      "PIN 110:   4203\n",
      "PIN 111:   4210\n",
      "PIN 112:   4213\n",
      "PIN 113:   4230\n",
      "PIN 114:   4231\n",
      "PIN 115:   4301\n",
      "PIN 116:   4302\n",
      "PIN 117:   4310\n",
      "PIN 118:   4312\n",
      "PIN 119:   4320\n",
      "PIN 120:   4321\n"
     ]
    }
   ],
   "source": [
    "from itertools import permutations\n",
    "\n",
    "for i, v in enumerate(permutations(''.join(str(d) for d in range(5)), 4)):\n",
    "    print(f'PIN {i+1}:'.ljust(10), ''.join(v))"
   ]
  },
  {
   "cell_type": "markdown",
   "metadata": {},
   "source": [
    "Wypisaliśmy wszystkie 120 sposóbów utworzenia 4 cyfrowego PINU z 5 cyfr, przy założeniu, że żadna cyfra nie może się powtórzyć. Możemy to zapisać jako $V^4_5$. Unikatowe ciągi k-elementowe stworzone ze zbioru n elementów nazywamy **wariacjami bez powtórzeń** i oznaczamy symbolem $V^k_n$. Widzimy, że dla k=n, liczba wariacji bez powtórzeń jest równa liczbie permutacji zbioru n-elementowgo. Spróbujmy otrzymać ogólny wzór na $V^k_n$, posługując się rozumowaniem podobnym do tego, które wykorzystaliśmy przy analizie permutacji.  \n",
    "\n",
    "*Rozumowanie*\n",
    "\n",
    "Weźmy zbiór n-elementów. Podobnie jak w przypadku permutacji, będziemy z niego tworzyć ciągi, lecz tym razem o długości k. Przed stworzeniem ciągu mamy zatem k miejsc do obsadzenia.\n",
    "$$\\_ \\quad \\_ \\quad \\_ \\quad \\_ \\quad \\dots \\quad \\_$$ \n",
    "$$1 \\quad 2 \\quad 3 \\quad 4 \\quad \\dots \\quad k$$ \n",
    "Na pierwszym miejscu (dokładnie tak samo jak w permutacji) może się znaleźć dowolny spośród n elementów, na drugim dowolny spośród n-1 elementów i tak dalej. Na ostatnim k-tym miejscu może znaleźć się dowolny spośród pozostałych n-k+1 elementów. Dla każdego miejsca liczba możliwości wygląda następująco\n",
    "$$n \\quad n-1 \\quad n-2 \\quad n-3 \\quad \\dots \\quad n-k+1$$ \n",
    "Możemy zatem utworzyć $n(n-1)(n-2)\\dots(n-k+1)$ unikatowych ciągów k elementowych spośród n elementów:\n",
    "\n",
    "$$V^k_n=n(n-1)(n-2)\\dots(n-k+1)=\\frac{n(n-1)(n-2)\\dots2\\cdot1}{(n-k)(n-k-1)\\dots2\\cdot1}=\\frac{n!}{(n-k)!}$$\n",
    "\n",
    "Dla k=n $V^k_n=\\frac{n!}{0!}=\\frac{n!}{1}=n!=P_k$, czyli zgodnie ze wcześniejszą obserwacją, dla k=n liczba wariacji bez powtórzeń jest równa liczbie permutacji zbioru n-elementowo."
   ]
  },
  {
   "cell_type": "code",
   "execution_count": 4,
   "metadata": {},
   "outputs": [
    {
     "name": "stdout",
     "output_type": "stream",
     "text": [
      "5! / (5-4)! =  120\n"
     ]
    }
   ],
   "source": [
    "from math import factorial\n",
    "\n",
    "print('5! / (5-4)! = ', factorial(5) // factorial(1))"
   ]
  },
  {
   "cell_type": "markdown",
   "metadata": {},
   "source": [
    "Widzimy, że liczba wszystkich wypisanych kodów PIN $\\frac{5!}{(5-4)!}$ wynosi 120, czyli jest zgodna z wydedukowanym wzorem ogólnym."
   ]
  },
  {
   "cell_type": "markdown",
   "metadata": {},
   "source": [
    "#### **3. Kombinacja**\n",
    "Wybierzmy grupę 6 osób. Każda z osób wita się z pozostałymi osobami poprzez zetknięcie łokci. Zastanówmy się ile zetknięć łokci potrzeba, aby wszyscy przywitali się ze wszystkimi."
   ]
  },
  {
   "cell_type": "code",
   "execution_count": 5,
   "metadata": {},
   "outputs": [
    {
     "name": "stdout",
     "output_type": "stream",
     "text": [
      "Option 1:    p1 >< p2\n",
      "Option 2:    p1 >< p3\n",
      "Option 3:    p1 >< p4\n",
      "Option 4:    p1 >< p5\n",
      "Option 5:    p1 >< p6\n",
      "Option 6:    p2 >< p3\n",
      "Option 7:    p2 >< p4\n",
      "Option 8:    p2 >< p5\n",
      "Option 9:    p2 >< p6\n",
      "Option 10:   p3 >< p4\n",
      "Option 11:   p3 >< p5\n",
      "Option 12:   p3 >< p6\n",
      "Option 13:   p4 >< p5\n",
      "Option 14:   p4 >< p6\n",
      "Option 15:   p5 >< p6\n"
     ]
    }
   ],
   "source": [
    "from itertools import combinations\n",
    "\n",
    "for i, c in enumerate(combinations(''.join(str(d) for d in range(1,7)), 2)):\n",
    "    print(f'Option {i+1}:'.ljust(12), 'p{} >< p{}'.format(*c))"
   ]
  },
  {
   "cell_type": "markdown",
   "metadata": {},
   "source": [
    "Po wypisaniu wszystkich sposobów, widzimy, że potrzeba było 15 zetknięć. Inaczej mówiąc, mamy 15 kombinacji 2-elementowych ze zbioru 6-elementowego. Możemy to zapisać jako $C^2_6=15$. Kombinacja k-elementowa ze zbioru n-elementowego to unikatowy sposób wyboru k elementów spośród n elementów. W kombinacjach nie interesuje nas kolejność elementów (nie ma znaczenia czy osoba numer 1 wita się z osobą numer 2 czy na odwrót – ważna jest sama \"przynależność dwóch osób do danego powitania\"). Spróbujmy otrzymać wzór ogólny na $C^k_n$.\n",
    "\n",
    "*Rozumowanie*\n",
    "\n",
    "Z poprzednich rozważań wiemy, że spośród n-elementów możemy wybrać $V^k_n$ unikatowych ciągów k-elementowych. Spróbujmy wykorzystać tą wiedzę do otrzymania wzoru na liczbę kombinacji. W liczeniu kombinacji nie interesuje nas jednak kolejność, a jedynie fakt przynaleźności do wybranego podzbioru. Z tego względu oczekujemy, że liczba kombinacji $C^k_n$ powinna być mniejsza od liczby wariacji bez powtórzeń $V^k_n$. \n",
    "\n",
    "Aby zbadać relację $V^k_n$ i $C^k_n$ posłużmy się konkretnym przykładem. Weźmy n=6 i k=3. Liczba wariacji bez powtórzeń dla tych wartości wynosi $V^3_6=\\frac{6!}{(6-3)!}=\\frac{6!}{3!}=120$. Oznacza to, że mamy 120 **unikatowych ciągów** 3-elementowych spośród 6 elementów. Chcemy teraz dowiedzieć się ile mamy **unikatowych podzbiorów** 3-elementowych ze zbioru 6 elementów. Dla każdego 3-elementowego podzbioru, czyli każdej trójki, możemy stworzyć $P_3=6$ unikatowych ciągów. W związku tym mamy następującą relację: $C^3_6 \\cdot P_3 = V^3_6$. Widzimy, że aby otrzymać liczbę kombinacji wykrzystując wariacje bez powtórzeń musimy uwzględnić fakt, że każdy podzbiór \"występuje\" wielokrotnie jako ciąg o tych samych elementach, lecz ustawiony w różnej kolejności. Przykładowo, mając zbiór 6 liter $\\{a, b, c, d, e, f\\}$, na jeden podzbiór 3 liter, np. $\\{a,e,f\\}$, przypada dokładnie 6 różnych wariacji bez powtórzeń: $(a, e, f)$, $(a, f, e)$, $(e, a, f)$, $(e, f, a)$, $(f, a, e)$ oraz $(f, e, a)$. W ogólności na każdy podzbiór k-elementowy przypada dokładnie $P_k$ odpowiadających wariacji bez powtórzeń. Wykorzystajmy tę obserwację aby otrzymać wyrażenie ogólne na $C^k_n$:\n",
    "\n",
    "$$C^k_n=\\frac{V^k_n}{P_k}=\\frac{\\frac{n!}{(n-k)!}}{k!}=\\frac{n!}{(n-k)!k!}=\\binom{n}{k}$$\n",
    "\n",
    "Wyrażenie $\\binom{n}{k}$ nazywane jest [symbolem Newtona](https://pl.wikipedia.org/wiki/Symbol_Newtona)."
   ]
  },
  {
   "cell_type": "code",
   "execution_count": 6,
   "metadata": {},
   "outputs": [
    {
     "data": {
      "text/plain": [
       "15"
      ]
     },
     "execution_count": 6,
     "metadata": {},
     "output_type": "execute_result"
    }
   ],
   "source": [
    "from math import factorial\n",
    "\n",
    "factorial(6) // (factorial(2) * factorial(4))"
   ]
  },
  {
   "cell_type": "markdown",
   "metadata": {},
   "source": [
    "Widzimy, że liczba wszystkich kombinacji równa $\\binom{6}{2}=15$ jest zgodna ze wzorem ogólnym."
   ]
  },
  {
   "cell_type": "markdown",
   "metadata": {},
   "source": [
    "#### **4. Wariacja z powtórzeniami**\n",
    "Załóżmy że dysponujemy 5 symbolami (mamy alfabet składający się z 5 znaków). Ile różnych słów, składających się z 3 znaków możemy utworzyć w takiej sytuacji?"
   ]
  },
  {
   "cell_type": "code",
   "execution_count": 7,
   "metadata": {},
   "outputs": [
    {
     "name": "stdout",
     "output_type": "stream",
     "text": [
      "Word 1:    aaa\n",
      "Word 2:    aab\n",
      "Word 3:    aac\n",
      "Word 4:    aad\n",
      "Word 5:    aae\n",
      "Word 6:    aba\n",
      "Word 7:    abb\n",
      "Word 8:    abc\n",
      "Word 9:    abd\n",
      "Word 10:   abe\n",
      "Word 11:   aca\n",
      "Word 12:   acb\n",
      "Word 13:   acc\n",
      "Word 14:   acd\n",
      "Word 15:   ace\n",
      "Word 16:   ada\n",
      "Word 17:   adb\n",
      "Word 18:   adc\n",
      "Word 19:   add\n",
      "Word 20:   ade\n",
      "Word 21:   aea\n",
      "Word 22:   aeb\n",
      "Word 23:   aec\n",
      "Word 24:   aed\n",
      "Word 25:   aee\n",
      "Word 26:   baa\n",
      "Word 27:   bab\n",
      "Word 28:   bac\n",
      "Word 29:   bad\n",
      "Word 30:   bae\n",
      "Word 31:   bba\n",
      "Word 32:   bbb\n",
      "Word 33:   bbc\n",
      "Word 34:   bbd\n",
      "Word 35:   bbe\n",
      "Word 36:   bca\n",
      "Word 37:   bcb\n",
      "Word 38:   bcc\n",
      "Word 39:   bcd\n",
      "Word 40:   bce\n",
      "Word 41:   bda\n",
      "Word 42:   bdb\n",
      "Word 43:   bdc\n",
      "Word 44:   bdd\n",
      "Word 45:   bde\n",
      "Word 46:   bea\n",
      "Word 47:   beb\n",
      "Word 48:   bec\n",
      "Word 49:   bed\n",
      "Word 50:   bee\n",
      "Word 51:   caa\n",
      "Word 52:   cab\n",
      "Word 53:   cac\n",
      "Word 54:   cad\n",
      "Word 55:   cae\n",
      "Word 56:   cba\n",
      "Word 57:   cbb\n",
      "Word 58:   cbc\n",
      "Word 59:   cbd\n",
      "Word 60:   cbe\n",
      "Word 61:   cca\n",
      "Word 62:   ccb\n",
      "Word 63:   ccc\n",
      "Word 64:   ccd\n",
      "Word 65:   cce\n",
      "Word 66:   cda\n",
      "Word 67:   cdb\n",
      "Word 68:   cdc\n",
      "Word 69:   cdd\n",
      "Word 70:   cde\n",
      "Word 71:   cea\n",
      "Word 72:   ceb\n",
      "Word 73:   cec\n",
      "Word 74:   ced\n",
      "Word 75:   cee\n",
      "Word 76:   daa\n",
      "Word 77:   dab\n",
      "Word 78:   dac\n",
      "Word 79:   dad\n",
      "Word 80:   dae\n",
      "Word 81:   dba\n",
      "Word 82:   dbb\n",
      "Word 83:   dbc\n",
      "Word 84:   dbd\n",
      "Word 85:   dbe\n",
      "Word 86:   dca\n",
      "Word 87:   dcb\n",
      "Word 88:   dcc\n",
      "Word 89:   dcd\n",
      "Word 90:   dce\n",
      "Word 91:   dda\n",
      "Word 92:   ddb\n",
      "Word 93:   ddc\n",
      "Word 94:   ddd\n",
      "Word 95:   dde\n",
      "Word 96:   dea\n",
      "Word 97:   deb\n",
      "Word 98:   dec\n",
      "Word 99:   ded\n",
      "Word 100:  dee\n",
      "Word 101:  eaa\n",
      "Word 102:  eab\n",
      "Word 103:  eac\n",
      "Word 104:  ead\n",
      "Word 105:  eae\n",
      "Word 106:  eba\n",
      "Word 107:  ebb\n",
      "Word 108:  ebc\n",
      "Word 109:  ebd\n",
      "Word 110:  ebe\n",
      "Word 111:  eca\n",
      "Word 112:  ecb\n",
      "Word 113:  ecc\n",
      "Word 114:  ecd\n",
      "Word 115:  ece\n",
      "Word 116:  eda\n",
      "Word 117:  edb\n",
      "Word 118:  edc\n",
      "Word 119:  edd\n",
      "Word 120:  ede\n",
      "Word 121:  eea\n",
      "Word 122:  eeb\n",
      "Word 123:  eec\n",
      "Word 124:  eed\n",
      "Word 125:  eee\n"
     ]
    }
   ],
   "source": [
    "from itertools import product\n",
    "\n",
    "for i, c in enumerate(product('abcde', repeat=3)):\n",
    "    print(f'Word {i+1}:'.ljust(10), ''.join(c))"
   ]
  },
  {
   "cell_type": "markdown",
   "metadata": {},
   "source": [
    "Po wypisaniu wszystkich sposobów, widzimy, że przy użyciu 5 liter oraz długości słowa równej 3 można utworzyć 125 unikatowych słów. W wariacji z powtórzeniami, podobnie jak w wariacji bez powtórzeń, tworzymy ciągi k-elemntowe wybierając spośród n-elementów, lecz umożliwiamy powtarzanie się elementu w ramach ciągu. Wariację z powtórzeniami zapisujemy wykorzystując symbol $W^k_n$, więc w naszym przykładzie $W^3_5=125$. Otrzymanie wyrażenia ogólnego na $W^k_n$ jest bardzo łatwe.\n",
    "\n",
    "*Rozumowanie*\n",
    "\n",
    "Skoro nie musimy unikać powtórzeń, na każde z k wolnych miejsc możemy wstawić dowolny spośród n symboli. Równocześnie każde miejsce możemy obsadzić niezależnie od innego, nie musząc przejmować się, że stworzyliśmy \"nadmiarową\" ilość ciągów. W związku z tym całkowita ilość ciągów wynosi:\n",
    "\n",
    "$$W^k_n = n\\cdot n\\cdot \\dots \\cdot n = n^k$$"
   ]
  },
  {
   "cell_type": "code",
   "execution_count": 8,
   "metadata": {},
   "outputs": [
    {
     "name": "stdout",
     "output_type": "stream",
     "text": [
      "125\n"
     ]
    }
   ],
   "source": [
    "print(5 ** 3)"
   ]
  },
  {
   "cell_type": "markdown",
   "metadata": {},
   "source": [
    "### Klasyczna definicja prawdopodobieństwa"
   ]
  },
  {
   "cell_type": "markdown",
   "metadata": {},
   "source": [
    "W najprostszym ujęciu obliczenie prawdopodobieństwa sprowadza się do zwykłego dzielenia, **w którym liczbę interesujących nas wyników końcowych pewnego doświadczenia losowego dzielimy przez liczbę wszystkich możliwych wyników końcowych**. Doświadczenie losowe, to eksperyment którego wyników nie jesteśmy w stanie przewidzieć. Przykładem może być rzut monetą, losowanie lotto lub rozpad promieniotwórczy. W ogólności, wyniki końcowe mogą mieć różną szansę na realizację, jednak w najprostszym przypadku, każdy z możliwych wyników jest tak samo prawdopodobny. To założenie jest spełnione dla większości gier losowych takich jak karty, kości czy losowania. \n",
    "\n",
    "Wprowadźmy pewne oznaczenia posługując się przykładem rzutu symetryczną kością. Podkreślenie symetrii obiektu jest zazwyczaj tożsame z powiedzeniem, że każdy wynik ma równą szansę wystąpienia. **Zdarzeniem elementarnym** będziemy nazywać każdy możliwy wynik doświadczenia losowego. Zbiór wszystkich możliwych zdarzeń elementarnych, nazywany również **przestrzenią zdarzeń**, oznaczany jako $\\Omega$. W przypadku rzutu kością $\\Omega$ zawiera 6 możliwych wyników doświadczenia $\\Omega = \\{1, 2, 3, 4, 5, 6\\}$. **Zdarzeniem losowym** będziemy nazywali każdy podzbiór $\\Omega$. Przykładowe zdarzenia losowe to (i) wyrzucenie parzystej liczby oczek $A_1 = \\{2, 4, 6\\}$, (ii) wyrzucenie sześciu oczek $A_2 = \\{6\\}$ lub (iii) wyrzucenie liczby oczek będącej liczbą pierwszą $A_3 = \\{2, 3, 5\\}$. Prawdopodobieństwem zdarzenia losowego będziemy nazywali stosunek:\n",
    "\n",
    "$$P(A) = \\frac{|A|}{|\\Omega|}$$\n",
    "\n",
    "W powyższym wzorze operator (wyrażenie) $|\\cdot|$ oznacza moc zbioru, czyli w przypadku zbiorów skończonych liczbę jego elementów. Dla przykładu, prawdopodobieństwo wyrzucenia parzystej liczby oczek wynosi $\\frac{|A_1|}{|\\Omega|} = \\frac{3}{6} = \\frac{1}{2}$. W praktyce oznacza to, że powtarzając rzut kością bardzo wiele razy, w około połowie przypadków wyrzucimy liczbę parzystą (zobacz [prawo wielkich liczb](https://pl.wikipedia.org/wiki/Prawo_wielkich_liczb)). W większości sytuacji, gdy musimy obliczyć prawdopodobieństwo zdarzenia losowego, cała trudność problemu polega na znalezienia liczebności zbiorów $A$ oraz $\\Omega$. W takich przypadkach z pomocą przychodzi kombinatoryka. "
   ]
  },
  {
   "cell_type": "markdown",
   "metadata": {},
   "source": [
    "## Prawdopodobieństwo w pokerze"
   ]
  },
  {
   "cell_type": "markdown",
   "metadata": {},
   "source": [
    "Poker jest grą losową, w której gracze stawiają zakłady pienieżne, które zazwyczaj wygrywa gracz z najsilniejszym układem pięciu kart. W pokerze wyróżnia się 10 układów kart, uporządkowanych od najsilniejszego do najsłabszego. Czynnikiem, który określa jak silny jest układ jest prawdopodobieństwo jego wystąpienia. Im trudniej wylosować dany układ, tym jest on silniejszy. Spróbujmy obliczyć i porównać prawdopodobieństwa wystąpienia poszczególnych układów."
   ]
  },
  {
   "cell_type": "markdown",
   "metadata": {},
   "source": [
    "### Zbiór zdarzeń elementarnych\n",
    "\n",
    "W przypadku pokera, zbiór zdarzeń elementarnych będzie składał się z układów złożonych z pięciu różnych kart wybranych spośród pełnej talii 52 kart. Zakładamy, że dzięki dokładnemu tasowaniu kart, każdy zestaw pięciu kart ma takie samo prawdopodobieństwo wystąpienia. Zastanówmy sie ile różnych zestawów pięciu kart możemy stworzyć dysponując pełną talią (w pokerze kolejność kart nie ma znaczenia, jedynie sam fakt ich współwystępowania z innymi kartami). Odpowiedź na to pytanie dostarcza nam kombinacja 5-elementowa ze zbioru 52 elementów, czyli $C^5_{52} = \\binom{52}{5}=\\frac{52!}{47!5!}=2,598,960$. Jak widzimy, liczba wszystkich możliwości to ponad 2.5 miliona!"
   ]
  },
  {
   "cell_type": "code",
   "execution_count": 9,
   "metadata": {},
   "outputs": [
    {
     "name": "stdout",
     "output_type": "stream",
     "text": [
      "All possible poker hands: 2,598,960\n"
     ]
    }
   ],
   "source": [
    "from math import factorial\n",
    "\n",
    "omega = factorial(52) // (factorial(52 - 5) * factorial(5))\n",
    "print(f'All possible poker hands: {omega:,}')"
   ]
  },
  {
   "cell_type": "markdown",
   "metadata": {},
   "source": [
    "Poniższy kod umożliwia wielokrotne losowanie zestawu pięciu kart i sprawdzanie, do którego układu przynależy dany zestaw. Wielokrotne powtórzenie doświadczenia losowego polegającego na losowaniu zestawu kart pozwoli na \"eksperymentalne\" określenie prawdopodobieństwa wystąpienia poszczególnych układów. Zgodnie z prawem wielkich liczb, dla dużej liczby eksperymentów częstotliwość wystąpienia danego układu powinna być bliska prawdopodobieńśtwu wystąpienia tego układu. \n",
    "\n",
    "---\n",
    "\n",
    "*Notka programistyczna*\n",
    "\n",
    "Klasa `Card` reprezentuje pojedynczą kartę do gry. Aby stworzyć kartę należy podać jej wartość, jako jednoelementowy string (do wyboru wartości od `'2'` do `'9'` oraz dziesiątka `'T'`, walet `'J'`, dama `'Q'`, król `'K'` i as `'A'` oraz kolor, również jako jednoelementowy string (do wyboru kier (hearts $\\heartsuit$) `'H'`, trefl (clubs $\\clubsuit$) `'C'`, pik (spades $\\spadesuit$) `'S'` oraz karo (diamons $\\diamondsuit$) `'D'`. Przykładowo `Card(value='T', suit='S')` tworzy dziesiątkę pik. Atrybuty `value` oraz `suit` zwracają odpowiedniki liczbowe danych wartości oraz kolorów dla ułatwienia detekcji układów. Karty posiadają kompaktową reprezentajcę znakową – np. `5D` jest reprezentacją piątki karo.\n",
    "\n",
    "Klasa `Deck` reprezentuje pełną talię kart do gry. Metoda `sample` zwraca listę pięciu losowych kart.\n",
    "\n",
    "Funkcje sprawdzające przyjmują jako argument listę pięciu kart i analizując jej skład określają czy dany zestaw stanowi szukany układ."
   ]
  },
  {
   "cell_type": "code",
   "execution_count": 10,
   "metadata": {},
   "outputs": [],
   "source": [
    "import random\n",
    "from collections import Counter\n",
    "\n",
    "class Card():\n",
    "    value_dict = {'T': 10, 'J': 11, 'Q': 12, 'K': 13, 'A': 14}\n",
    "    suit_dict = {'H': 0, 'C': 1, 'S': 2, 'D': 3}\n",
    "    \n",
    "    def __init__(self, value, suit):\n",
    "        self.value = self.value_dict[value] if value in 'TJKQA' else int(value)\n",
    "        self.suit = self.suit_dict[suit]\n",
    "        self._str = value + suit \n",
    "    \n",
    "    def __str__(self):\n",
    "        return self._str\n",
    "\n",
    "    def __repr__(self):\n",
    "        return self._str\n",
    "    \n",
    "    \n",
    "class Deck:\n",
    "    def __init__(self):\n",
    "        self.deck = [Card(value=v, suit=s) for s in 'HCSD' for v in '23456789TJQKA']\n",
    "        random.seed(0)\n",
    "        \n",
    "    def sample(self):\n",
    "        return random.sample(self.deck, k=5)\n",
    "\n",
    "    \n",
    "STRAIGHTS = tuple({*range(v, v+5)} for v in range(2, 11)) + ({14, 2, 3, 4, 5}, )    \n",
    "    \n",
    "def is_straight(sample):\n",
    "    if set([card.value for card in sample]) in STRAIGHTS: \n",
    "        return True\n",
    "    return False\n",
    "\n",
    "def is_flush(sample):\n",
    "    suits = {card.suit for card in sample}\n",
    "    if len(suits) == 1: \n",
    "        return True\n",
    "    return False\n",
    "\n",
    "def is_poker(sample):\n",
    "    if is_flush(sample) and is_straight(sample): \n",
    "        return True\n",
    "    return False\n",
    "    \n",
    "def _get_counts(sample):\n",
    "    counts = Counter([card.value for card in sample]).values()\n",
    "    return tuple(sorted(counts, reverse=True))    \n",
    "\n",
    "def is_pair(sample):\n",
    "    return True if _get_counts(sample) == (2, 1, 1, 1) else False\n",
    "    \n",
    "def is_two_pair(sample):\n",
    "    return True if _get_counts(sample) == (2, 2, 1) else False\n",
    "\n",
    "def is_three(sample):\n",
    "    return True if _get_counts(sample) == (3, 1, 1) else False\n",
    "\n",
    "def is_four(sample):\n",
    "    return True if _get_counts(sample) == (4, 1) else False\n",
    "\n",
    "def is_full(sample):\n",
    "    return True if _get_counts(sample) == (3, 2) else False"
   ]
  },
  {
   "cell_type": "markdown",
   "metadata": {},
   "source": [
    "### Poker\n",
    "\n",
    "Poker to nazwa najrzadszego układu w pokerze. Jest to układ łączący strit oraz kolor. Strit to układ w którym pięć kart można ułożyć w kolejości w której wszystkie wartości następują bezpośrednio po sobie (as może być zarówno najniszą kartą – układ A2345, lub najwyższą TJQKA). Kolor to układ, w którym wszystkie pięć kart ma ten sam kolor. Poker to inaczej \"strit w kolorze\", czyli karty muszą być ułożone po kolei oraz być w jednym kolorze. Przykładem pokera może być układ $\\{7\\heartsuit, 8\\heartsuit, 9\\heartsuit, T\\heartsuit, J\\heartsuit\\}$ czyli kiery od siódemki do dziesiątki.\n",
    "\n",
    "Spróbujmy obliczyć ile jest różnych kombinacji spośród wszystkich 2,598,960 możliwcych, które dają pokera. Poker może wystąpić w jednym z czterech kolorów, co daje nam cztery możliwości. Dla każdego koloru liczba możliwych stritów wynosi dziesięć od najniższego do najwyższego: A2345, 23456, 34567, ..., 9TJQK, TJQKA. Liczba wszystkich układów dającyh pokera wynosi więc 40:\n",
    "\n",
    "$$|A_{poker}| = \\binom{4}{1}\\binom{10}{1} = 40$$\n",
    "\n",
    "Powyższy zapis oznacza że kolor możemy wybrać na 4 sposoby (wybór jednego elementu spośród 4) a strit na 10 sposobów (wybór jednego elementu spośród 10). Szukane prawdopodobieństwo wynosi:\n",
    "\n",
    "$$P_{poker} = \\frac{|A_{poker}|}{|\\Omega|} = \\frac{40}{2,598,960} \\approx 0.0015\\%$$\n",
    "\n",
    "Przeprowadźmy symulację, aby oszacować to prawdopodobieństwo eksperymentalnie."
   ]
  },
  {
   "cell_type": "code",
   "execution_count": 11,
   "metadata": {},
   "outputs": [
    {
     "name": "stdout",
     "output_type": "stream",
     "text": [
      "Out of 10,000,000 experiments 152 poker hands occured (frequency 0.00152%)\n"
     ]
    }
   ],
   "source": [
    "n = 10_000_000\n",
    "d = Deck()\n",
    "\n",
    "n_poker = 0\n",
    "for _ in range(n):\n",
    "    if is_poker(d.sample()):\n",
    "        n_poker += 1\n",
    "        \n",
    "freq = 100 * n_poker / n\n",
    "print(f'Out of {n:,} experiments {n_poker:,} poker hands occured (frequency {freq:0.5f}%)')"
   ]
  },
  {
   "cell_type": "markdown",
   "metadata": {},
   "source": [
    "### Kareta\n",
    "\n",
    "Kareta to układ, w którym cztery spośród pięciu kart mają jednakową wartość. Przykładem karety, może być kareta piątek $\\{5\\clubsuit, 5\\heartsuit, 5\\spadesuit, 5\\diamondsuit, J\\heartsuit\\}$ z dodatkowym waletem. Obliczmy, na ile sposobów możemy utworzyć układ, który będzie karetą. \n",
    "\n",
    "Kartę, której wartość występuje cztery razy możemy wybrać na 13 sposobów (możemy wybrać dowolną wartość od 2 do asa). Dla każdej wylosowanej czwórki mamy jedno wolne miejsce na piątą kartę. Możemy obsadzić to miejsce każdą z pozostałych w talii kart, co da nam inny układ. Po wyjęciu czterech kart w talii pozostaje 48 kart, więc ilość kombinacji, które dają karetę wynosi $13\\cdot 48=624$. Możemy to zapisać przy pomocy kombinacji:\n",
    "\n",
    "$$|A_{kareta}| = \\binom{13}{1}\\binom{48}{1} = 13\\cdot 48 = 624$$\n",
    "\n",
    "Szukane prawdopodobieństwo wynosi:\n",
    "\n",
    "$$P(A_{kareta}) = \\frac{|A_{kareta}|}{|\\Omega|} = \\frac{624}{2,598,960} \\approx 0.024\\%$$"
   ]
  },
  {
   "cell_type": "code",
   "execution_count": 12,
   "metadata": {},
   "outputs": [
    {
     "name": "stdout",
     "output_type": "stream",
     "text": [
      "Out of 2,000,000 experiments 502 four-of-a-kind hands occured (frequency 0.02510%)\n"
     ]
    }
   ],
   "source": [
    "n = 2_000_000\n",
    "d = Deck()\n",
    "\n",
    "n_four = 0\n",
    "for _ in range(n):\n",
    "    if is_four(d.sample()):\n",
    "        n_four += 1\n",
    "        \n",
    "freq = 100 * n_four / n\n",
    "print(f'Out of {n:,} experiments {n_four:,} four-of-a-kind hands occured (frequency {freq:0.5f}%)')"
   ]
  },
  {
   "cell_type": "markdown",
   "metadata": {},
   "source": [
    "### Full\n",
    "\n",
    "Full to układ składający się z trójki i pary (występują trzy karty o tej samej wartości oraz para kart o tej samej wartości). Przykładem fulla, może być układ składający się z trójki szóstek i pary dam $\\{6\\clubsuit, 6\\heartsuit, 6\\spadesuit, Q\\spadesuit, Q\\heartsuit\\}$. Obliczmy, na ile sposobów możemy utworzyć fulla. \n",
    "\n",
    "Najpierw wybierzmy trójkę kart o tej samej wartości. Wartość możemy wybrać na 13 sposobów (od 2 do asa). Jako, że musimy wykorzystać tylko trzy z czterech kart o wybranej wartości, dla każdej z nich mamy $\\binom{4}{3}=4$ kombinacje (wybór trzech kolorów spośród czterech, czyli HCS, HCD, HSD, CSD). Ostatecznie trójkę możemy wybrać na 52 sposóby (13 różnych wartości i dla każdej z nich 4 kombinacje kolorystyczne). Dla każdej dobranej trójki musimy dobrać parę. Wartość pary możemy wybrać na 12 sposobów (odrzucamy wartość, którą zarezerwowaliśmy dla trójki). Dla każdej z wartości musimy wybrać kolory. Ponieważ para składa się z dwóch kart, musimy wybrać 2 spośród 4 kolorów, co daje nam $\\binom{4}{2}=6$ kombinacji (HC, HS, HD, CS, CD, SD). Podsumowując, wszystkich możliwości otrzymujemy:\n",
    "\n",
    "$$|A_{full}| = \\binom{13}{1}\\binom{4}{3}\\binom{12}{1}\\binom{4}{2} = 13\\cdot 4\\cdot 12\\cdot 6=3,744$$\n",
    "\n",
    "Szukane prawdopodobieństwo wynosi:\n",
    "\n",
    "$$P(A_{full}) = \\frac{|A_{full}|}{|\\Omega|} = \\frac{3,744}{2,598,960} \\approx 0.144\\%$$"
   ]
  },
  {
   "cell_type": "code",
   "execution_count": 13,
   "metadata": {},
   "outputs": [
    {
     "name": "stdout",
     "output_type": "stream",
     "text": [
      "Out of 1,000,000 experiments 1,400 full house hands occured (frequency 0.14000%)\n"
     ]
    }
   ],
   "source": [
    "n = 1_000_000\n",
    "d = Deck()\n",
    "\n",
    "n_full = 0\n",
    "for _ in range(n):\n",
    "    if is_full(d.sample()):\n",
    "        n_full += 1\n",
    "        \n",
    "freq = 100 * n_full / n\n",
    "print(f'Out of {n:,} experiments {n_full:,} full house hands occured (frequency {freq:0.5f}%)')"
   ]
  },
  {
   "cell_type": "markdown",
   "metadata": {},
   "source": [
    "### Kolor\n",
    "\n",
    "Kolor to układ pięciu kart w tym samym kolorze. Możemy mieć na przykład kolor składający się z pików $\\{2\\spadesuit, 4\\spadesuit, 8\\spadesuit, Q\\spadesuit, J\\spadesuit\\}$. Obliczmy, na ile sposobów możemy utworzyć kolor. \n",
    "\n",
    "Kolor możemy wybrać na cztery sposoby (mamy do wyboru pik, trefl, karo i kier). Po wyborze koloru musimy wybrać 5 wartości kart spośród 13 dostępnych (np. 248QJ, 45QJK, itd.). Na ile sposobów możemy wybrać 5 elementów spośród 13? Odpowiedź na to pytanie dostarcza nam kombinacja 5-elementowa w zbiorze 13 elementów $C^5_{13}=\\binom{13}{5}=\\frac{13!}{8!5!}=1287$. Możemy więc wybrać $4\\cdot 1287$ kombinacji 5 kart w tym samym kolorze. Należy jednak pamiętać, iż jako kolor nie będziemy liczyli pokera (który jest kombinacją w jednym kolorze) stanowiącego osobną kategorię. Od wszystkich kombinacji w kolorze musimy więc odjąć 40 zarezerowanych dla pokera. Ostatecznie mamy:\n",
    "\n",
    "$$|A_{kolor}| = \\binom{4}{1}\\binom{13}{5} - 40 = 4\\cdot 1287-40=5,108$$\n",
    "\n",
    "Szukane prawdopodobieństwo wynosi:\n",
    "\n",
    "$$P(A_{kolor}) = \\frac{|A_{kolor}|}{|\\Omega|} = \\frac{5,108}{2,598,960} \\approx 0.197\\%$$"
   ]
  },
  {
   "cell_type": "code",
   "execution_count": 14,
   "metadata": {},
   "outputs": [
    {
     "name": "stdout",
     "output_type": "stream",
     "text": [
      "Out of 1,000,000 experiments 1,999 flush hands occured (frequency 0.19990%)\n"
     ]
    }
   ],
   "source": [
    "n = 1_000_000\n",
    "d = Deck()\n",
    "\n",
    "n_flush = 0\n",
    "for _ in range(n):\n",
    "    sample = d.sample()\n",
    "    if is_flush(sample) and not is_poker(sample):\n",
    "        n_flush += 1\n",
    "        \n",
    "freq = 100 * n_flush / n\n",
    "print(f'Out of {n:,} experiments {n_flush:,} flush hands occured (frequency {freq:0.5f}%)')"
   ]
  },
  {
   "cell_type": "markdown",
   "metadata": {},
   "source": [
    "### Strit\n",
    "\n",
    "Kolor to układ pięciu kart występujących bezpośrednio po sobie. As w stricie może być zarówno najniższą jak i najwyższą kartą (np. strit od asa $\\{A\\diamondsuit, 2\\spadesuit, 3\\spadesuit, 4\\heartsuit, J\\clubsuit\\}$ oraz strit do asa $\\{T\\spadesuit, J\\spadesuit, Q\\spadesuit, K\\heartsuit, A\\heartsuit\\}$). Obliczmy, na ile sposobów możemy utworzyć strit. \n",
    "\n",
    "Piątkę wartości występujących bezpśrednio po sobie możemy wybrać na 10 sposobów (A2345, 23456, 34567, ..., 9TJQK, TJQKA). Dla każdej piątki musimy dobrać kolory kart. Każda wartość może wystąpić w innym kolorze niezależnie od pozostałych. Na przykład dla strita od 3 do 7, karta o wartości 3 może być pikim, kierem, treflem lub karo, podobnie karta o wartości 4, itd. Daje nam to $4^5$ różnych zestawów kolorów dla każdej wybranej sekwencji wartości. Tak samo jak w przypadku koloru, musimy pamiętać o odjęciu 40 kombinacji zarezerwowanych dla pokera (poker jest również stritem). Ostatecznie otrzymujemy: \n",
    "\n",
    "$$|A_{strit}| = \\binom{10}{1}\\binom{4}{1}^5 - 40=10,200$$\n",
    "\n",
    "Szukane prawdopodobieństwo wynosi:\n",
    "\n",
    "$$P(A_{strit}) = \\frac{|A_{strit}|}{|\\Omega|} = \\frac{10,200}{2,598,960} \\approx 0.392\\%$$"
   ]
  },
  {
   "cell_type": "code",
   "execution_count": 15,
   "metadata": {},
   "outputs": [
    {
     "name": "stdout",
     "output_type": "stream",
     "text": [
      "Out of 1,000,000 experiments 3,985 straight hands occured (frequency 0.39850%)\n"
     ]
    }
   ],
   "source": [
    "n = 1_000_000\n",
    "d = Deck()\n",
    "\n",
    "n_straight = 0\n",
    "for _ in range(n):\n",
    "    sample = d.sample()\n",
    "    if is_straight(sample) and not is_poker(sample):\n",
    "        n_straight += 1\n",
    "        \n",
    "freq = 100 * n_straight / n\n",
    "print(f'Out of {n:,} experiments {n_straight:,} straight hands occured (frequency {freq:0.5f}%)')"
   ]
  },
  {
   "cell_type": "markdown",
   "metadata": {},
   "source": [
    "Więcej informacji na temat prawdopodobieństwa w pokerze można przeczytać w [świetnym artykule na angielskiej Wikipedii](https://en.wikipedia.org/wiki/Poker_probability). Zauważmy również, że aby otrzymać precyzyjne przybliżenie prawdopodobieństwa dla zdarzeń bardzo rzadkich (np. wystąpienie pokera) musieliśmy przeprowadzić więcej symulacji niż dla zdarzeń występujących relatywnie często. Gdybyśmy chcieli oszacować prawdopodobieństwo pokera przeprowadzając jedynie 100 tysięcy symulacji, jest możliwe, że poker nie pojawiłby się ani razu (wówczas szacowane $\\hat{P}(A_{poker}) = 0$. "
   ]
  }
 ],
 "metadata": {
  "kernelspec": {
   "display_name": "Python 3.8 64-bit ('decidenet': conda)",
   "language": "python",
   "name": "decidenet"
  },
  "language_info": {
   "codemirror_mode": {
    "name": "ipython",
    "version": 3
   },
   "file_extension": ".py",
   "mimetype": "text/x-python",
   "name": "python",
   "nbconvert_exporter": "python",
   "pygments_lexer": "ipython3",
   "version": "3.8.1"
  }
 },
 "nbformat": 4,
 "nbformat_minor": 4
}
