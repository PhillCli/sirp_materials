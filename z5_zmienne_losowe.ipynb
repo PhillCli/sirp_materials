{
 "cells": [
  {
   "cell_type": "markdown",
   "metadata": {},
   "source": [
    "## Zmienna losowa\n",
    "\n",
    "W dotychczas rozważanych problemach dotyczących prawdopodobieństwa zbiorem zdarzeń elementarych mogliśmy nazwać zbiór wszystkich możliwych wyników doświadczenia losowego. Bardzo często nie interesuje nas jednak fakt wystąpienia konkretnego zdarzenia, a jedynie pewna charakterystyka liczbowa związana z tym zdarzeniem. Przykładowo:\n",
    "\n",
    "1. Przeprowadzając badania statystyczne bardzo często interesuje nas jedynie wybrana cecha np. wzrost lub płeć osoby, a nie dokładna informacja, że wylosowana osoba ma na imię Jan Kowalski. \n",
    "2. Grając w pokera interesuje nas zazwyczaj jaki układ mamy, a nie konkretne karty z których ten układ się składa.\n",
    "3. Wykonując dwukrotny rzut kością podczas rozgrywki w ulubioną grę planszową zazwyczaj jesteśmy jedynie zainteresowani prawdopodobieństwem wyrzucenia danej sumy oczek, a nie konkretnej sekwencji dwóch wyników – np. chcemy wówczas znać szansę na wyrzucenie 10 oczek – nie iteresuje nas czy wyrzucimy je w kombinacji $(5, 5)$, $(6, 4)$ czy $(4, 6)$.   \n",
    "\n",
    "Obserwacja, że bardzo często nie interesują nas szczegóły zdarzenia losowego, a jedynie pewna liczba (często naturalnie) związana z jego wynikiem prowadzą nas do wprowadzenia pojęcia **zmiennej losowej**. Zmienna losowa to po prostu *funkcja, która każdemu zdarzeniu elementarnemy przypisuje liczbę rzeczywistą*, czyli formalnie funkcja $X:\\Omega \\rightarrow \\mathbb{R}$, gdzie $\\Omega$ to zbiór zdarzeń elementarnych. \n",
    "\n",
    "Najprostszym przykładem zmiennej losowej może być funkcja, która przyporządkowuje dwie liczby do dwóch możliwych wyników rzutu monetą. Jeśli zbiorem zdarzeń elementarnych będą możliwe wyniki pojedynczego rzutu monetą $\\Omega = \\{O, R\\}$ to możemy zdefiniować zmienną losową $X$ jako funkcję:\n",
    "$$X(O)=0, X(R)=1$$\n",
    "Dzięki zmiennej losowej $X$ oznaczyliśmy wyrzucenie orła liczbą 0 i wyrzucenie reszki liczbą 1. Oczywiście nie jest to jedyne możliwe przyporządkowanie. Inna osoba może przyjąć zmienną losową $X$ jako nastepujące przyporządkowanie:\n",
    "$$X(O)=-1, X(R)=1$$\n",
    "lub\n",
    "$$X(O)=67.89, X(R)=222$$\n",
    "albo nawet\n",
    "$$X(O)=-999, X(R)=-999$$\n",
    "Jak widzimy, definicja zmiennej losowej pozwala na dużą dowolność, ważne jest tylko, aby **każde zdarzenie elementarne miało przypisaną liczbę rzeczywistą**. Oczywiście w przypadkku rzutu monetą przypisanie obu wynikom liczby -999 nie ma większego sensu praktycznego, jednak z punktu widzenia teorii jest całkowicie poprawne. Zazwyczaj interesujący aspekt danego doświadczenia losowego podsunie nam najbarsziej \"naturalną\" i intuicyjną definicję zmiennej losowej. W innych przypadkach będziemy musieli dokonać arbitralnej decyzji jakie liczby przypisać danym zdarzeniom, tak aby zmienna losowa była dla nas wygodna w użyciu. \n",
    "\n",
    "Skonstruujmy przykładowe zmienne losowe dla trzech przykładów określonych na początku.\n",
    "\n",
    "1. Zmienną losową $X$ w przypadku badania statystycznego może być funkcja przyporządkowująca wzrost w centymetrach z dokładnością do 1cm. W takim wypadku każdemu zdarzeniu elementarnemu, czyli po prostu każdej osobie z populalcji przyporządkujemy jej wzrost w centymetrach, np.\n",
    "$$X(\\text{Jan Kowalski})=182$$ \n",
    "$$X(\\text{Janina Nowak})=174$$ \n",
    "$$X(\\text{Kamil Bonna})=180$$\n",
    "$$\\dots$$\n",
    "\n",
    "2. W przypadku pokera, zazwyczaj chcemy wiedzieć jak silny układ mamy. Zbiór zdarzeń elementarnych to zbiór wszystkich możliwych kombinacji pięciu kart (jak wiemy jest ich $C^5_{52} = \\binom{52}{5}=\\frac{52!}{47!5!}=2,598,960$). Możemy określić zmienną losową jako przyporządkowanie liczby 0 do każdego układu wysoka karta, liczby 1 do każdego układu zawierającego parę, liczbę 2 do każdego układu zawierającego trójkę, liczbę 3 do każdego strita, liczbę 4 do każdego koloru, liczbę 5 do każdego fulla, liczbę 6 do każdej karety i liczbę 7 do każdego pokera. Przykładowo:\n",
    "$$X(\\{A\\diamondsuit, 2\\spadesuit, 3\\spadesuit, 4\\heartsuit, 5\\clubsuit\\})=3$$\n",
    "ponieważ układ $\\{A\\diamondsuit, 2\\spadesuit, 3\\spadesuit, 4\\heartsuit, 5\\clubsuit\\}$ jest stritem, \n",
    "$$X(\\{2\\spadesuit, 4\\spadesuit, 8\\spadesuit, Q\\spadesuit, J\\spadesuit\\})=4$$\n",
    "ponieważ układ $\\{2\\spadesuit, 4\\spadesuit, 8\\spadesuit, Q\\spadesuit, J\\spadesuit\\}$ jest kolorem, itd. Widzimy, że taki sposób \"kodowania\" układów określa nam zmienną losową, gdyż każdej możliwej kominacji pięciu kart jesteśmy w stanie jednoznacznie przypisać liczbę (w tym wypadku liczę całkowitą od 0 do 7).\n",
    "\n",
    "3. Określenie zmiennej losowej dla dwukrotnego rzutu kością, gdy interesuje nas suma wyrzuconych oczek jest najbardziej intuicyjne. Zbiór zdarzeń elementarnych to wszystkie możliwe kombinacje wyników dwóch rzutów $\\Omega = \\{(1, 1), (1, 2), (2, 1), \\dots, (6, 6)\\}$. Zmienna losowa $X$ będzie w tym wypadku funkcją, która przypisuje parze rzutów sumę wyrzuconych oczek: \n",
    "$$X((1, 1))=2$$\n",
    "$$X((2, 1))=3$$\n",
    "$$X((1, 2))=3$$\n",
    "$$\\dots$$\n",
    "\n",
    "Wprowadzenie zmiennych losowej w pewnym sensie zastępuje pojęcie zdarzeń losowych. Wcześniej rozważaliśmy np. prawdopodobieństwo zdarzenia losowego $A_{full}$ polegającego na wylosowaniu fula w pokerze, teraz będziemy rozważać prawdopodobieństwo, że zmienna losowa przyjmie wartość 5 (tą liczbę przypisaliśmy wszystkim zdarzeniom elementarnym polegającym na wylosowaniu fula). Na pierwszy rzut oka taki zabieg nie ma większego sensu – teraz operujemy na liczbach, wcześniej na zdarzeniach, ale i tak w gruncie rzeczy wykonujemy te same obliczenia. Po co mnożyć byty, jeśli nie są do niczego użyteczne. Okazuje się jednak, że zmienne losowe są niezwykle użyteczne, ponieważ przenoszą analizę prawdopodobieństwa z przestrzeni probabilistycznej na przestrzeń euklidesową. Oznacza to, że zmienne losowe w \"łatwy sposób poddają się obliczeniom\" – można je dodawać, mnożyć, przekształcać, określać dla nich rozkłady, całkować te rozkłady, itd. Innymi słowy, przenosząc badanie prawdopodobieństwa na zbiory liczbowe (a nie abstrakcyjne zbiory zdarzeń) dostajemy cały arsenał matematycznych narzędzi, wynalezionych po to aby efektywnie działać w przestrzeniach liczbowych.    "
   ]
  },
  {
   "cell_type": "markdown",
   "metadata": {},
   "source": [
    "### Rozkład zmiennej losowej\n",
    "\n",
    "Podstawowym pojęciem związanym ze zmienną losową jest jej rozkład. Rozkład zmiennej losowej to analog prawdopodobieństwa określonego dla zdarzeń losowych. Rozkład zmiennej losowej to funkcja, która przyporządkowuje prawdopodobieństwo, że zmienna losowa przyjmie konkretną wartość. "
   ]
  },
  {
   "cell_type": "markdown",
   "metadata": {},
   "source": [
    "#### Rozkład dyskretny\n",
    "\n",
    "**Przykład.** Weźmy zmienną losową określoną dla rzutu monetą. Przypomnijmy, że $X$ zdefiniowaliśmy jako funkcję która przyjmuje wartości $X(O)=0$ i $X(R)=1$. Jeśli moneta jest symetryczna to wyrzucenie orła i reszki jest tak samo prawdopodobne. Zatem z równym prawdopodobieństwem zmienna losowa przyjmie wartość 0 (wyrzucenie orła) oraz wartość 1 (wyrzucenie reszki). Rozkład zmiennej losowej $X$ jest więc rozkładem dyskretnym, który przyjmuje wartość $\\frac{1}{2}$ dla 0 oraz $\\frac{1}{2}$ dla 1. "
   ]
  },
  {
   "cell_type": "code",
   "execution_count": 1,
   "metadata": {},
   "outputs": [],
   "source": [
    "import matplotlib.pyplot as plt"
   ]
  },
  {
   "cell_type": "code",
   "execution_count": 2,
   "metadata": {},
   "outputs": [
    {
     "data": {
      "image/png": "[encoded data removed]",
      "text/plain": [
       "<Figure size 432x288 with 1 Axes>"
      ]
     },
     "metadata": {
      "needs_background": "light"
     },
     "output_type": "display_data"
    }
   ],
   "source": [
    "fig, ax = plt.subplots()\n",
    "\n",
    "ax.stem([0, 1], [.5, .5], '--', 'ko', basefmt=' ', use_line_collection=True)\n",
    "\n",
    "ax.set_xlabel('x')\n",
    "ax.set_ylabel('f(x)')\n",
    "ax.set_xlim([-1, 2])\n",
    "ax.set_ylim([0, 1])\n",
    "plt.show()"
   ]
  },
  {
   "cell_type": "markdown",
   "metadata": {},
   "source": [
    "Możemy również zobaczyć jak rozkład zmiennej losowej będzie wyglądał, gdy przyjmiemy inną definicję zmiennej losowej. Weźmy nasz niepraktyczny przykład, w którym określiliśmy $X$ jako funkcję która przyjmuje wartości $X(O)=-999$ oraz $X(R)=-999$. W tym przypadku niezależnie od wyniku doświadczenia losowego zmienna losowa przyjmie wartość -999, zatem rozkład będzie wyglądał następująco:"
   ]
  },
  {
   "cell_type": "code",
   "execution_count": 3,
   "metadata": {},
   "outputs": [
    {
     "data": {
      "image/png": "[encoded data removed]",
      "text/plain": [
       "<Figure size 432x288 with 1 Axes>"
      ]
     },
     "metadata": {
      "needs_background": "light"
     },
     "output_type": "display_data"
    }
   ],
   "source": [
    "fig, ax = plt.subplots()\n",
    "\n",
    "ax.stem([-999], [1], '--', 'ko', basefmt=' ', use_line_collection=True)\n",
    "\n",
    "ax.set_xlabel('x')\n",
    "ax.set_ylabel('f(x)')\n",
    "ax.set_xlim([-1001, -997])\n",
    "ax.set_ylim([0, 1.1])\n",
    "plt.show()"
   ]
  },
  {
   "cell_type": "markdown",
   "metadata": {},
   "source": [
    "Przykład ten intuicyjnie pokazuje, że dla każdej możliwej definicji zmiennej losowej (nawet bezsensownej z praktycznego punku widzenia) możemy jednozacznie określić rozkład, czyli prawdopodobieństwo, że zmienna losowa przyjmie określoną wartość."
   ]
  },
  {
   "cell_type": "markdown",
   "metadata": {},
   "source": [
    "**Przykład.** Rozważmy bardziej użyteczny przykład dwukrotnego rzutu kością. Zbiór zdarzeń elementarnych określiliśmy jako wszystkie możliwe wyniki doświadczenia, czyli $\\Omega = \\{(1, 1), (1, 2), (2, 1), \\dots, (6, 6)\\}$ a zmienną losowa $X$ zdefiniowaliśmy jako funkcję przyporządkowującą parze rzutów sumę wyrzuconych oczek, np. $X((3, 2))=5$. Spróbujmy znaleźć rozkład dla tak zdefiniowanej zmiennej losowej. Ustalmy jakie wartości może przyjąć zmienna losowa, czyli jaką sumę oczek możemy wyrzucić w dwukrotnym rzucie kością. Możliwe wyniki to 2, 3, 4, $\\dots$, 12. Aby wyznaczyć rozkład dla $X$, wystarczy, że określimy z jakim prawdopodobieństwem uzyskamy sumę oczek równą 2, 3, 4, $\\dots$, 12. Problem ten dobrze pamiętamy z rozważań dotyczących klasycznej definicji prawdopodobieństwa. Przykładowo, prawdopodobieństwo wyrzucenia sumy oczek równej 2 wynosi $\\frac{1}{36}$ ponieważ tylko 1 z 36 kombinacji (wyrzucenie dwóch jedynek) daje taką sumę. W związku z tym wartość rozkładu dla $x=2$ będzie wynosiła $\\frac{1}{36}$. Analogicznie, prawdopodobieństwo wyrzucena sumy oczek równej 3 wynosi $\\frac{2}{36}$ ponieważ dokładnie 2 kombinacje ($(1, 2)$ oraz $(1, 2)$) dają taką sumę. Wiemy zatem, że wartość rozkładu zmiennej $X$ dla $x=3$ będzie wynosiła $\\frac{2}{36}$. Innymi słowy zmienna losowa $X$ przyjmie wartość 3 z prawdopodobieństwem równym $\\frac{2}{36}$, ponieważ takie jest prawdopodobieństwo wyrzucenia sumy oczek równej 3. Postępując w podobny sposób z kolejnymi możliwymi wartościami od 4 aż do 12 otrzymujemy nastpujący rozkład prawdopodobieństwa:    "
   ]
  },
  {
   "cell_type": "code",
   "execution_count": 4,
   "metadata": {},
   "outputs": [
    {
     "data": {
      "image/png": "[encoded data removed]",
      "text/plain": [
       "<Figure size 432x288 with 1 Axes>"
      ]
     },
     "metadata": {
      "needs_background": "light"
     },
     "output_type": "display_data"
    }
   ],
   "source": [
    "fig, ax = plt.subplots()\n",
    "\n",
    "x = range(2, 13)\n",
    "fx = [1, 2, 3, 4, 5, 6, 5, 4, 3, 2, 1]\n",
    "fx = [p/36 for p in fx]\n",
    "\n",
    "ax.stem(x, fx, '--', 'ko', basefmt=' ', use_line_collection=True)\n",
    "\n",
    "ax.set_xlabel('x')\n",
    "ax.set_ylabel('f(x)')\n",
    "ax.set_xlim([0, 14])\n",
    "ax.set_ylim([0, .2])\n",
    "plt.show()"
   ]
  },
  {
   "cell_type": "markdown",
   "metadata": {},
   "source": [
    "Analizując wykres dla rozkładu zmiennej losowej $X$ natychmiast możemy zauważyć, że:\n",
    "- największe prawdopodobieństwo jest związane z wyrzuceniem sumy oczek równej 7\n",
    "- prawdopodobieństwo jest \"symetryczne\", tzn. równie trudno wyrzucić sumę oczek równą 3 co sumę oczek równą 11\n",
    "\n",
    "Zauważmy, że sumując rozkład, tzn. dodając wszystkie niezerowe wartości rozkładu $f(x)\\neq 0$ otrzymujemy 1 – czyli prawdopodobieństwo zdarzenia polegającego na wyrzuceniu dowolnej sumy oczek (w terminologii zmiennej losowej prawdopodobieństwo, że zmienna losowa przyjmie dowolną wartość)."
   ]
  },
  {
   "cell_type": "markdown",
   "metadata": {},
   "source": [
    "#### Rozkład ciągły\n",
    "\n",
    "**Przykład.** Rozważmy ponownie sytuację spotkania Alicji i Boba w restauracji. Alicja i Bob przychodzą o losowej godzinie pomiędzy 19:00 a 20:00. Zbiór zdarzeń elementarnych dla tego zdarzenia losowego to para określająca godzinę przyjścia Alicji i Boba $\\Omega = \\{(\\text{19:00:00}, \\text{19:00:00}), \\dots, (\\text{19:17:24}, \\text{19:57:02}), \\dots, (\\text{20:00:00}, \\text{20:00:00}) \\}$. W związku z tym, że czas jest ciągłą zmienną, zbiór zdarzeń elementarnych jest nieprzeliczalny. \n",
    "\n",
    "Zastawnówmy się jakie użyteczne zmienne losowe możemy zdefiniować dla sytuacji spotkania. Jedną z nich mogłaby być zmienna losowa, która określa czas oczekiwania na drugą osobę osoby, która przyszła jako pierwsza. W takim wypadku $X$ będzie funkcją, która dla czasu przyjścia Alicji $t_A$ i Boba $t_B$ zwraca wartość bezwględną różnicy czasów $|t_A - t_B|$ (w godzinach). Możemy natychmiast określić, że zmienna losowa może przyjąć dowolną wartość między 0 a 1 – jeśli oboje przyjdą dokładnie w tym samym czasie, to czas oczekiwania wyniesie 0 godzin, jeśli jedno z nich przyjdzie o 19:00, a drugie o 20:00, to czas oczekiwania wyniesie 1 godzinę. Dodatkowo, skoro czas jest wielkością ciągłą, czas oczekiwania może przyjąć dowolną wartość z przedziału $\\left[0, 1\\right]$. \n",
    "\n",
    "Jak zatem w takim przypadku będzie wyglądał rozkład zmiennej losowej $X$? W **przypadku dyskretnym** wystarczyło podać prawdopodobieństwa dla każdej możliwej wartości, którą może przyjąć zmienna losowa. W **przypadku ciągłym** nie jest to jednak możliwe i należy posługiwać się pojęciem **gęstości prawdopodobieństwa**. W przypadku ciągłym nie ma sensu zadawać pytania – jakie jest prawdopodobieństwo, że czas oczekiwania wyniesie dokładnie 15 minut, ponieważ według teorii takie prawdopodobieństwo wynosi zero! W przypadku ciągłym powinniśmy zadawać pytania dotyczące przedziałów – możemy zapytać jakie jest prawdopodobieństwo, że czas oczekiwania będzie większy niż 14 minut ale mniejszy niż 16 minut. W takim przypadku dostaniemy odpowiedź, która nie będzie zerem. Innymi słowy, gęstość rozkładu zmiennej losowej $X$, czyli funkcja $f(x)$, pozwala nam obliczyć prawdopodobieństwo, że zmienna losowa przyjmie jakąś wartość z przedziału $\\left[a, b\\right]$:\n",
    "$$P(a\\leq X\\leq b)=\\int_{a}^{b}f(x)dx$$\n",
    "W przypadku dyskretnym, gdy chcieliśmy znać prawdopodobieństwo, że zmienna losowa przyjmie wartość np. 2 lub 3 wystarczyło dodać wartości rozkładu dla $x=2$ i $x=3$, czyli obliczyć prostą sumę $f(2)+f(3)$. W przypadku ciągłym analogiem sumy jest operacja całkowania, która pozwala na wyznaczenie pola powierzchni pod wykresem funkcji. Dokładnie taka jest interpretacja graficzna gęstości prawdopodobieństwa – policzenie pola powierzchni pod wykresem gęstości w przedziale $\\left[a, b\\right]$ odpowiada prawdopodobieństwu, że zmienna losowa przyjmie wartość z tego przedziału. W przypadku spotkania Alicji i Boba, chcąc obliczyć prawdopodobieństwo, że czas oczekiwania wyniesie więcej niż 15 minut ale mniej niż pół godziny musimy obliczyć:\n",
    "$$P(\\frac{1}{4}\\leq X\\frac{1}{2})=\\int_{\\frac{1}{4}}^{\\frac{1}{2}}f(x)dx,$$\n",
    "gdzie $f(x)$ jest gęstością dla rozkładu zmiennej losowej $X$ określającej czas oczekiwania na drugą osobę. \n",
    "\n",
    "W jaki sposób obliczyć gęstość rozkładu $f(x)$? W niektórych sytuacjach stosunkowo łatwo jest dostać postać analityczną $f(x)$, lecz zdecydowanie łatwiej posłużyć się symulacją w celu aproksymacji rozkładu. Dokładnie to znajduje się w symulacji 6 w notebooku `z1_zagadki_symulacje.ipynb`."
   ]
  },
  {
   "cell_type": "code",
   "execution_count": 5,
   "metadata": {},
   "outputs": [],
   "source": [
    "from random import random"
   ]
  },
  {
   "cell_type": "code",
   "execution_count": 6,
   "metadata": {},
   "outputs": [
    {
     "data": {
      "image/png": "[encoded data removed]",
      "text/plain": [
       "<Figure size 432x288 with 1 Axes>"
      ]
     },
     "metadata": {
      "needs_background": "light"
     },
     "output_type": "display_data"
    }
   ],
   "source": [
    "n_trials = 1_000_000\n",
    "\n",
    "time_a = (random() for _ in range(n_trials))\n",
    "time_b = (random() for _ in range(n_trials))\n",
    "time_wait = [abs(t_a - t_b) for t_a, t_b in zip(time_a, time_b)]\n",
    "\n",
    "fig, ax = plt.subplots()\n",
    "\n",
    "ax.hist(time_wait, 1000, density=True, histtype='step', cumulative=False, label='Empirical')\n",
    "ax.set_xlabel('x')\n",
    "ax.set_ylabel('f(x)')\n",
    "ax.set_xlim([-0.1, 1.1])\n",
    "ax.set_ylim([0, 3])\n",
    "plt.show()"
   ]
  },
  {
   "cell_type": "markdown",
   "metadata": {},
   "source": [
    "Symulacja pokazuje, że prawdopodobieństwo jest liniowo maleją funkcją czasu oczekiwania. Oznacza to, że bardziej prawdopodobne jest, że czas oczekiwania pierwszej osoby na drugą będzie wynosił od 3 do 4 minut, niż od 4 do 5 minut. Widzimy również, że pole powierzchni pod gęstością rozkładu wynosi dokładnie 1 – gęstość w przedziale od 0 do 1, tworzy trójkąt o długości podstawy 1 i wysokości 2 – $P=\\frac{1}{2}\\cdot 1\\cdot 2=1$. Ta obserwacja odzwierciedla fakt, że prawdpodobieństwo, że czas oczekiwania będzie zawierał się w przedziale od 0 godzin do 1 godziny wynosi 1.    "
   ]
  }
 ],
 "metadata": {
  "kernelspec": {
   "display_name": "Python 3.8 64-bit ('decidenet': conda)",
   "language": "python",
   "name": "decidenet"
  },
  "language_info": {
   "codemirror_mode": {
    "name": "ipython",
    "version": 3
   },
   "file_extension": ".py",
   "mimetype": "text/x-python",
   "name": "python",
   "nbconvert_exporter": "python",
   "pygments_lexer": "ipython3",
   "version": "3.8.1"
  }
 },
 "nbformat": 4,
 "nbformat_minor": 4
}
