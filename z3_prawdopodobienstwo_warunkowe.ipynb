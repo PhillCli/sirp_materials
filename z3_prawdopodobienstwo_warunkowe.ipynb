{
 "cells": [
  {
   "cell_type": "markdown",
   "metadata": {},
   "source": [
    "## Prawdopodobieństwo warunkowe\n",
    "\n",
    "Jakie jest prawdopodobieństwo, że znajdziemy na ulicy banknot o nominale 100zł? To zależy – moglibyśmy odpowiedzieć. Zależy od miasta w którym żyjemy, dzielnicy, od tego jak często wychodzimy z domu i jaki dystans przemierzamy na pieszo. Bardzo często dodatkowe informacje pozwalają nam lepiej oszacować prawdopodobieństwa istotnych wydarzeń – zapadalność na niektóre choroby mocno zależy od wieku, płci czy współwystępowania innych chorób. Ten prosty fakt bardzo dokładnie wykorzystują banki oraz firmy ubezpieczeniowe. Chcąc ubezpieczyć samochód musimy odpowiedzieć na dziesiątki bardzo szczegółowych pytań. Firmy ubezpieczeniowe wykorzystują nasze odpowiedzi, aby ocenić ryzyko szkody – im większe ryzyko, tym większa składka. Dobrym ćwiczeniem jest uruchomienie darmowego kalkulatora składki oraz wypełnianie formularza na różne sposoby, obserwując zmianę wysokości ubezpieczenia. Dostrzeżemy, że kluczowe czynniki zwiększające ryzyko wypadku to np. młody wiek, duża liczba szkód w ostatnich latach, stary samochód. Zastanówmy się, w jaki sposób w ramach istniejącej teorii uwzględnić prawdopodobieństwo warunkowe.\n",
    "\n",
    "Skupmy się na prostym przykładzie. Weźmy dwie szkolne klasy I i II. W każdej z nich uczy się 10 uczniów. Uczniowie klasy I są młodsi, uczniowie klasy II są o rok starsi. Wszystkim uczniom dajemy do rozwiązania pewne zadanie matematyczne. W klasie II, 7 osób jest w stanie rozwiązać zadanie (większość rozwiązywała już podobne zadanie i dobrze opanowała materiał), a w klasie I tylko 2 osoby (najlepsi uczniowie, którzy przerobili już materiał z wyższej klasy). Sytuację możemy przedstawić w postaci tzw. **tabeli krzyżowej**:\n",
    "\n",
    "\n",
    "| Klasa | Poprawne rozwiązanie | Niepoprawne rozwiązanie |\n",
    "|:--:|:--:|:--:|\n",
    "| I | 2 | 8 |\n",
    "| II | 7 | 3 |\n",
    "\n",
    "Na podstawie powyższych danych możemy zadawać rozmaite pytania dotyczące prawdopodobieństwa. Załóżmy, że zbiorem zdarzeń elementarnych jest wybranie losowego ucznia z jednej z dwóch klas $\\Omega=\\{u_1, u_2, u_3, \\dots, u_{20}\\}$. Poznając klasyczną definicję prawdopodobieństwa nauczyliśmy się odpowiadać na pytania:\n",
    "- Jakie jest prawdopodobieństwo, że losowo wybrany uczeń należy do klasy I?\n",
    "- Jakie jest prawdopodobieństwo, że losowo wybrany uczeń poprawnie rozwiązał zadanie?\n",
    "\n",
    "Aby znaleźć odpowiedzi musimy znaleźć liczebość zbiorów $A_I$ oraz $A_p$ gdzie $A_I$ jest zdarzeniem polegającym na wylosowaniu ucznia klasy I, a $A_p$ jest zdarzeniem polegającym na wylosowaniu ucznia, który poprawnie rozwiązał zadanie. Zauważmy, że $|A_I|=10$ to suma elementów pierwszego wiersza tabeli, a $|A_p|=9$ to suma elementów pierwszej kolumny tabeli. Szukane prawdopodobieństwa obliczamy korzystając z wzoru $P(A)=\\frac{|A|}{|\\Omega|}$:\n",
    "$$P(A_I)=\\frac{|A_I|}{|\\Omega|}=\\frac{10}{20}=50\\%$$\n",
    "$$P(A_p)=\\frac{|A_p|}{|\\Omega|}=\\frac{9}{20}=45\\%$$\n",
    "\n",
    "Wykorzystajmy teraz fakt, że w pewnych okolicznościach posiadamy **dodatkową wiedzę o sytuacji**, która wpływa na obliczane przez nas prawdopodieństwa. Zadajmy następujące pytania:\n",
    "- Jakie jest prawdopobieństwo, że losowo wybrany uczeń poprawnie rozwiązał zadanie, jeśli wiemy, że był to uczeń klasy I?\n",
    "- Jakie jest prawdopodieństwo, że losowo wybrany uczeń jest uczniem klasy I, jeśli wiemy, że poprawnie rozwiązał zadanie?\n",
    "\n",
    "Patrząc na tabelę, od razu możemy odpowiedzieć na pierwsze pytanie – prawdopodobieństwo wynosi $20\\%$. W jaki sposób można to obliczyć? Należy podzielić liczbę uczniów klasy I, którzy poprawnie rozwiązali zadanie przez całkowitą liczbę uczniów klasy I: $\\frac{2}{10}=20\\%$. Zauważmy, że wzór ten działa dokładnie tak samo jak wzór z klasycznej definicji prawdopodobieństwa z tą różnicą, że nasz nowy zbiór zdarzeń elementarnych \"skurczył\" się do podzbioru $\\Omega$ zawierającego wyłącznie uczniów klasy I. Dokładnie tak działa prawdopodobieństwo warunkowe – dzięki nowym informacjom \"kurczy się\" nasz wyjściowy zbiór zdarzeń elementarnych. Ubezpieczyciel wiedząc, że jesteśmy osobami w wieku od 20 do 30 nie musi znać prawdopodobieństwa stłuczki spowodowanej przez osoby po 30, wystarczą mu dane statystyczne osób z grupy wiekowej 20-30, aby precyzyjnie określić prawdopodobieństwo spowodowania straty. Formalnie, prawdopodobieństwo, że losowo wybrany uczeń poprawnie rozwiązał zadanie, pod warunkiem, że był uczniem klasy pierwsze zapiszemy jako $P(A_p|A_I)$ – pionową kreskę czytamy jako \"pod warunkiem, że\". Wzór ogólny na prawdopodobieństwo warunkowe możemy zapisać jako:\n",
    "$$P(A|B)=\\frac{|A\\cap B|}{|B|}$$\n",
    "\n",
    "W naszym przypadku mamy $P(A_p|A_I)=\\frac{|A_p\\cap A_I|}{|A_I|}$. Widzimy, że interesującym nas zdarzeniem jest wybranie osoby z klasy I, która jednocześnie poprawnie rozwiązała zadanie (stąd część wspólna zbiorów $A_p$ oraz $A_I$), a \"skurczonym\" zbiorem zdarzeń elementarnych jest zdarzenie $A_I$, czyli wylosowanie ucznia klasy I. Wykorzystajmy wzór na prawdopodobieństwo warunkowe, aby odpowiedzieć na drugie pytanie: Jakie jest prawdopodieństwo, że losowo wybrany uczeń jest uczniem klasy I, jeśli wiemy, że poprawnie rozwiązał zadanie?. To prawdopodobieństwo możemy zapisać jako $P(A_I|A_p)$:\n",
    "$$P(A_I|A_p)=\\frac{|A_I\\cap A_p|}{|A_p|}=\\frac{2}{9}\\approx 22.2\\%$$\n",
    "\n",
    "Widzimy więc, że dodatkowe informacje drastycznie zmieniły nasze wyjściowe prawdopodobieństwa – wystarczy porównać $P(A_I)=50\\%$ oraz $P(A_I|A_p)=22.2\\%$. W ogólnym przypadku, im więcej informacji będziemy posiadać o danej sytuacji tym mocniej będziemy w stanie zawężyć wyjściowy zbiór zdarzeń elementarnych, przez co oszacowane prawdopodobieństwo będzie bardziej precyzyjne (stąd firmy ubezpieczeniowe zadają aż tyle pytań). \n",
    "\n",
    "W pewnych sytuacjach, dodatkowa wiedza może sprawić, że nasze decyzje będą wątpliwe etycznie. Algorytmy sztucznej inteligencji, których celem jest określanie ryzyka (prawdopodobieństwa) różnych zdarzeń, biorąc pod uwagę dane na temat płci lub rasy mogą faworyzować pewne grupy ludzi. Więcej na ten temat można poczytać w jednym z [artykułów w Nature](https://www.nature.com/articles/d41586-019-03228-6).\n",
    "\n",
    "---"
   ]
  },
  {
   "cell_type": "markdown",
   "metadata": {},
   "source": [
    "### Zadanie 2.1\n",
    "\n",
    "Ania rzuciła czterorotnie symetryczną monetą i poinformowała, że wypadła jej nieparzysta libcza orłów. Jakie jest prawdopodobieństwo, że Ania wyrzuciła trzy orły?\n",
    "\n",
    "Przeprowadźmy symulację wielu powtórzeń eksperymentu polegającego na czterokrotnym rzucie symetryczną monetą. Policzmy jak często występowało każde ze zdarzeń: wyrzucenie samych reszek $O_0$, wyrzucenie jednego orła $O_1$, ..., wyrzucenie samych orłów $O_4$. Prawdopodobieństwo wyrzucenia trzech orłów będziemy mogli oszacować jako liczbę wystąpień zdarzenia $O_3$ podzieloną przez liczbę wszystkich eksperymentów.\n",
    "\n",
    "Aby oszacować prawdpodobieństwo wyrzucenia trzech orłów pod warunkiem wyrzucenia nieparzystej liczby orłów należy obliczyć (zgodnie ze wzorem na prawdopodobieństwo warunkowe):\n",
    "$$P(O_3|O_1\\cup O_3)=\\frac{|O_3\\cap (O_1\\cup O_3)|}{|O_1\\cup O_3|}=\\frac{|O_3|}{|O_1\\cup O_3|},$$\n",
    "\n",
    "czyli stosunek liczby zdarzeń polegających na wyrzuceniu trzech orłów oraz liczby zdarzeń polegających na wyrzuceniu nieparzystej liczby orłów (jednego lub trzech). Widzimy więc, że wiedza o nieprzystej liczbie orłów zawęża nam przestrzeń zdarzeń elementarnych do sumy zdarzeń losowych $O_1$ oraz $O_3$ (pamiętajmy o tym, że zdarzenia losowe to w rzeczywistości zbiory składające się ze zdarzeń elementarnych). "
   ]
  },
  {
   "cell_type": "code",
   "execution_count": 1,
   "metadata": {},
   "outputs": [
    {
     "name": "stdout",
     "output_type": "stream",
     "text": [
      "********** Summary ***********\n",
      "O_0 (0 tails) occurred 6335 times\n",
      "O_1 (1 tails) occurred 24975 times\n",
      "O_2 (2 tails) occurred 37490 times\n",
      "O_3 (3 tails) occurred 24925 times\n",
      "O_4 (4 tails) occurred 6275 times\n",
      "\n",
      "Estimated probability of 3 tails: 24.93%\n",
      "Estimated probability of 3 tails, given odd number of tails: 49.95%\n"
     ]
    }
   ],
   "source": [
    "from collections import Counter\n",
    "import random \n",
    "\n",
    "### Modify this part ##########################################################\n",
    "\n",
    "n_trials = 100_000\n",
    "show_trials = False\n",
    "\n",
    "###############################################################################\n",
    "\n",
    "tails = Counter()\n",
    "for trial in range(n_trials):\n",
    "    outcome = random.choices([0, 1], k=4)\n",
    "    tails.update([sum(outcome)])\n",
    "    \n",
    "    if show_trials:\n",
    "        print(f\" Trial #{trial+1}:\".ljust(12), \n",
    "              f\"{''.join(['O' if toss == 1 else 'R' for toss in outcome])}\")\n",
    "\n",
    "print(f' Summary '.center(30, '*'))\n",
    "for k, v in sorted(tails.items(), key=lambda x: x[0]):\n",
    "    print(f'O_{k} ({k} tails) occurred {v} times')\n",
    "\n",
    "print(f'\\nEstimated probability of 3 tails: {100*tails[3]/n_trials:.2f}%')    \n",
    "print(f'Estimated probability of 3 tails, given odd number of tails: ' + \\\n",
    "      f'{100*tails[3]/(tails[1]+tails[3]):.2f}%')"
   ]
  },
  {
   "cell_type": "markdown",
   "metadata": {},
   "source": [
    "### Zadanie 2.3\n",
    "\n",
    "Rzucono dwukrotnie kostką. Jakie jest prawdopodobieństwo, że suma oczek będzie większa od 8, gdy:\n",
    "- w którymś rzucie wypadnie 4,\n",
    "- w pierwszym rzucie wypadnie 4?\n",
    "\n",
    "Przeprowadźmy symulację wielu powtórzeń eksperymentu polegającego na dwukrotnym rzucie kostką. Policzmy jak często występowało każde ze zdarzeń: \n",
    "- wyrzucenie sumy oczek większej od 8: $A_{s>8}$ \n",
    "- wyrzucenie sumy oczek większej od 8, gdy w pierwszym rzucie wypadła 4: $A_{s>8}\\cap A_{I:4}$\n",
    "- wyrzucenie sumy oczek większej od 8, gdy w którymś rzucie wypadła 4: $A_{s>8}\\cap A_{4}$\n",
    "\n",
    "Przypomnijmy, że część wspólna zbiorów $A_{s>8}$ oraz $A_{I:4}$ dotyczy sytuacji w których dane zdarzenie elementarne należy zarówno do zbioru $A_{s>8}$ (suma dwóch oczek jest większa niż 4) oraz $A_{I:4}$ (w pierwszym rzucie wypadła czwórka). Zbiór $A_{s>8}$ składa się z następujących zdarzeń elementarnych $A_{s>8}=\\{(3, 6), (6, 3), (4, 5), (5, 4), (4, 6), (6, 4), (6, 5), (5, 6), (5, 5), (6, 6)\\}$, a zbiór $A_{I:4}$ ze zdarzeń $A_{I:4}=\\{(4, 1), (4, 2), (4, 3), (4, 4), (4, 5), (4, 6)\\}$. Zdarzeniami należącymi do $A_{s>8}\\cap A_{I:4}$ są sekwencje rzutów $(4, 5)$ oraz $(4, 6)$. Szukane prawdopodobieństwa będziemy mogli oszacować korzystając ze wzorów:\n",
    "$$P(A_{s>8}|A_{I:4})=\\frac{|A_{s>8}\\cap A_{I:4}|}{|A_{I:4}|}=\\frac{2}{6}\\approx 33.3\\%$$\n",
    "\n",
    "Analogicznie otrzymujemy:\n",
    "$$P(A_{s>8}|A_{4})=\\frac{|A_{s>8}\\cap A_{4}|}{|A_{4}|}=\\frac{4}{11}\\approx 36.3\\%$$\n"
   ]
  },
  {
   "cell_type": "code",
   "execution_count": 2,
   "metadata": {},
   "outputs": [
    {
     "name": "stdout",
     "output_type": "stream",
     "text": [
      "********** Summary ***********\n",
      "There were total 100000 number of trials.\n",
      "Out of 16828 trials with 4 rolled in first roll, 5622 (33.41%) trials had sum of rolls greater than 8).\n",
      "Out of 30512 trials with 4 rolled in at least one roll, 11039 (36.18%) trials had sum of rolls greater than 8).\n"
     ]
    }
   ],
   "source": [
    "import random \n",
    "\n",
    "### Modify this part ##########################################################\n",
    "\n",
    "n_trials = 100_000\n",
    "show_trials = False\n",
    "\n",
    "###############################################################################\n",
    "roll_4 = 0\n",
    "roll_first_4 = 0\n",
    "roll_4_and_sum_gt_8 = 0\n",
    "roll_first_4_and_sum_gt_8 = 0\n",
    "\n",
    "for trial in range(n_trials):\n",
    "    outcome = random.choices(range(1, 7), k=2)\n",
    "\n",
    "    # Check if interesting events occurred\n",
    "    if outcome[0] == 4 or outcome[1] == 4:\n",
    "        roll_4 += 1\n",
    "        if sum(outcome) > 8:\n",
    "            roll_4_and_sum_gt_8 +=1\n",
    "    if outcome[0] == 4:\n",
    "        roll_first_4 += 1\n",
    "        if sum(outcome) > 8:\n",
    "            roll_first_4_and_sum_gt_8 +=1\n",
    "        \n",
    "    if show_trials:\n",
    "        print(f'Trial #{trial+1}'.ljust(11), outcome)\n",
    "\n",
    "p1 = roll_first_4_and_sum_gt_8 / roll_first_4 * 100\n",
    "p2 = roll_4_and_sum_gt_8 / roll_4 * 100\n",
    "        \n",
    "print(f' Summary '.center(30, '*'))\n",
    "print(f'There were total {n_trials} number of trials.')\n",
    "print(f'Out of {roll_first_4} trials with 4 rolled in first roll, {roll_first_4_and_sum_gt_8}' + \\\n",
    "      f' ({p1:.2f}%) trials had sum of rolls greater than 8).')\n",
    "print(f'Out of {roll_4} trials with 4 rolled in at least one roll, {roll_4_and_sum_gt_8}' + \\\n",
    "      f' ({p2:.2f}%) trials had sum of rolls greater than 8).')"
   ]
  }
 ],
 "metadata": {
  "kernelspec": {
   "display_name": "Python 3.8 64-bit ('decidenet': conda)",
   "language": "python",
   "name": "decidenet"
  },
  "language_info": {
   "codemirror_mode": {
    "name": "ipython",
    "version": 3
   },
   "file_extension": ".py",
   "mimetype": "text/x-python",
   "name": "python",
   "nbconvert_exporter": "python",
   "pygments_lexer": "ipython3",
   "version": "3.8.1"
  }
 },
 "nbformat": 4,
 "nbformat_minor": 4
}
