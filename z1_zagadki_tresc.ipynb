{
 "cells": [
  {
   "cell_type": "markdown",
   "metadata": {},
   "source": [
    "### Problem 1. Paradoks Monty'ego Halla\n",
    "\n",
    "W pewnym teleturnieju zawodnik stoi przed trzema zasłoniętymi bramkami (w Polsce emitowany pod nazwą [Idź na całość](https://pl.wikipedia.org/wiki/Id%C5%BA_na_ca%C5%82o%C5%9B%C4%87). Za jedną z bramek (za którą – wie to tylko prowadzący program) jest nagroda (umieszczana całkowicie losowo). Gracz wybiera jedną z bramek. Następnie prowadzący program odsłania inną bramkę (co istotne – anonsując, że jest to bramka pusta), po czym proponuje graczowi zmianę wyboru. \n",
    "\n",
    "Pytania:\n",
    "- **Czy opłaca się zmienić swój pierwotny wybór?**\n",
    "- Jakie jest prawdopodobieństwo wygranej w każdym z przypadków?\n",
    "- Dlaczego ta sytuacja jest nazwana paradoksem?"
   ]
  },
  {
   "cell_type": "markdown",
   "metadata": {},
   "source": [
    "### Problem 2. Koło fortuny\n",
    "\n",
    "Gramy w koło fortuny widoczne na obrazku poniżej. Po każdym zakręceniu koła możemy z równym prawdopodobiństwem wylosować jedno z trzech pól:\n",
    "- pole **+1**: wówczas dostajemy 1zł i kręcimy jeszcze raz\n",
    "- pole **+2**: wówczas dostajemy 2zł i kręcimy jeszcze raz\n",
    "- pole **STOP**: wówczas kończymy grę\n",
    "\n",
    "Pytania:\n",
    "- **Jakiej (średniej) wygranej możemy oczekiwać po takiej loterii**\n",
    "- Ile razy (średnio) będziemy kręcić kołem?\n",
    "- Jak powyższe wartości zmienią się gdy do koła dodamy pola **+3**, **+4**, itd.?"
   ]
  },
  {
   "cell_type": "code",
   "execution_count": 1,
   "metadata": {},
   "outputs": [
    {
     "data": {
      "image/png": "[encoded data removed]",
      "text/plain": [
       "<Figure size 288x288 with 1 Axes>"
      ]
     },
     "metadata": {},
     "output_type": "display_data"
    }
   ],
   "source": [
    "import matplotlib.pyplot as plt\n",
    "fig, ax = plt.subplots(figsize=(4, 4), facecolor='w')\n",
    "plt.pie([1, 1, 1], labels=['+1', '+2', 'STOP'], \n",
    "        colors=['#006600','#003300','r'], labeldistance=.5, \n",
    "        textprops={'color': 'w', 'size': 12})\n",
    "plt.show()"
   ]
  },
  {
   "cell_type": "markdown",
   "metadata": {},
   "source": [
    "### Problem 3. Testy diagnostyczne\n",
    "\n",
    "Załóżmy, że dysponujemy precyzyjnym testem diagnostycznym na obecność wirusa SARS-CoV-2 w organizmie. Test ma skuteczność 99%, więc:\n",
    "- Jeśli osoba testowana jest chora, to na 99% test da wynik dodatni (czułość 99%)\n",
    "- Jeśli osoba testowana jest zdrowa, to na 99% test da wynik ujemny (swoistość 99%)\n",
    "\n",
    "Poczyńmy również dla uproszczenia (miejmy nadzieję, że fałszywe) założenie, że w Polsce obecnie 1% populacji jest nosicielem wirusa. Wybieramy jedego losowego Polaka i testujemy. Wynik testu jest dodatni.  \n",
    "\n",
    "Pytania:\n",
    "- **Jakie (przy prawidziwości postawionych założeń) jest prawdopodobieństwo, że osoba jest zarażona?**\n",
    "- Jak prawdopodobieństwo to zmienia się wraz ze zmianą:\n",
    "    - czułości testu?\n",
    "    - swoistości testu?\n",
    "    - częstości występowania wirusa?"
   ]
  },
  {
   "cell_type": "markdown",
   "metadata": {},
   "source": [
    "### Problem 4. Urodziny\n",
    "\n",
    "Jaka musi być minimalna liczba (losowo wybranych) osób, aby prawdopodobieństwo, że przynajmniej dwie z nich ma urodziny tego samego dnia roku było większe niż 50%? Dla uproszczenia przyjmijmy, że każdy rok składa się z 365 dni.\n",
    "\n",
    "Przykładowo wybierajmy grupy 5 osób:\n",
    "- *Grupa 1* \n",
    "    - Urodziny: 13 stycznia, 17 stycznia, 25 marca, 1 czerwca, 1 sierpnia\n",
    "- *Grupa 2* \n",
    "    - Urodziny: 1 stycznia, 3 lutego, 11 listopada, 27 listopada, 12 października\n",
    "- ...\n",
    "- *Grupa 67* \n",
    "    - Urodziny: 6 styczeń, **15 kwietnia**, **15 kwietnia**, 19 września, 1 grudnia\n",
    "- ...\n",
    "    \n",
    "Wielokrotnie powtarzając taki eksperyment przekonalibyśmy się, że tylko dla pewnego odsetka grup przynajmniej dwie osoby mają urodziny tego samego dnia. \n",
    "\n",
    "Pytania:\n",
    "- **Jak liczna musi być taka grupa aby ten odsetek wynosił >50%?**\n",
    "- Jak zmienia się to prawdopodobieństwo w zależności od liczności grupy?\n",
    "\n",
    "Podpowiedź: Jakie są szanse, że wszyscy będą mieli urodziny innego dnia?"
   ]
  },
  {
   "cell_type": "markdown",
   "metadata": {},
   "source": [
    "### Problem 5. Siedzenia w samolocie\n",
    "\n",
    "W samolocie jest 100 miejsc. Każdy pasażer otrzymuje swój bilet. Pasażerowie wchodzą do samolotu po kolei. Niestey pierwszy pasażer zgubił swój bilet. Życzliwa stewardessa pozwala mu usiąść na losowo wybranym miejscu. Każdy kolejny wsiadający pasażer (wszyscy mają swoje bilety) siada na swoim miejscu, lub wybiera inne losowe miejsce jeśli jego jest już zajęte. \n",
    "\n",
    "Pytania:\n",
    "- **Jakie jest prawdopodobieństwo, że ostatni pasażer będzie siedział na swoim miejscu?**\n",
    "\n",
    "Podpowiedź: Zastanów się, które siedzenia są istotne w tym problemie oraz jak wygląda proces ich zajmowania."
   ]
  },
  {
   "cell_type": "markdown",
   "metadata": {},
   "source": [
    "### Problem 6. Spotkanie\n",
    "\n",
    "Alicja i Bob umówili się w restauracji między 19:00 a 20:00. Każda osoba przychodzi o losowej godzinie w umówionym przedziale i (jeśli jest pierwsza) czeka na drugą osobę dokładnie przez 15 minut. Po 15 minutach, jeśli druga osoba się nie zjawi, pierwsza osoba wychodzi. \n",
    "\n",
    "Pytanie:\n",
    "- **Oblicz jakie jest prawdopodobieństwo, że Alicja i Bob się spotkają?**\n",
    "- Jak to prawdopodobieńnstwo zależy od maksymalnego czasu oczekiwania?\n",
    "\n",
    "Podpowiedź: Spróbuj narysować sytuację na wykresie zależności czasu przyjścia Boba od czasu przyjścia Alicji."
   ]
  }
 ],
 "metadata": {
  "kernelspec": {
   "display_name": "Python 3.7.4 64-bit ('base': conda)",
   "language": "python",
   "name": "python37464bitbaseconda5900f546c2394f719a1c101a72383e01"
  },
  "language_info": {
   "codemirror_mode": {
    "name": "ipython",
    "version": 3
   },
   "file_extension": ".py",
   "mimetype": "text/x-python",
   "name": "python",
   "nbconvert_exporter": "python",
   "pygments_lexer": "ipython3",
   "version": "3.7.7"
  }
 },
 "nbformat": 4,
 "nbformat_minor": 4
}
